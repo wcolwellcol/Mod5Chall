{
 "cells": [
  {
   "cell_type": "markdown",
   "metadata": {},
   "source": [
    "# Financial Planning with APIs and Simulations\n",
    "\n",
    "In this Challenge, you’ll create two financial analysis tools by using a single Jupyter notebook:\n",
    "\n",
    "Part 1: A financial planner for emergencies. The members will be able to use this tool to visualize their current savings. The members can then determine if they have enough reserves for an emergency fund.\n",
    "\n",
    "Part 2: A financial planner for retirement. This tool will forecast the performance of their retirement portfolio in 30 years. To do this, the tool will make an Alpaca API call via the Alpaca SDK to get historical price data for use in Monte Carlo simulations.\n",
    "\n",
    "You’ll use the information from the Monte Carlo simulation to answer questions about the portfolio in your Jupyter notebook.\n",
    "\n"
   ]
  },
  {
   "cell_type": "code",
   "execution_count": 43,
   "metadata": {},
   "outputs": [],
   "source": [
    "# Import the required libraries and dependencies\n",
    "import os\n",
    "import requests\n",
    "import json\n",
    "import pandas as pd\n",
    "from dotenv import load_dotenv\n",
    "import alpaca_trade_api as tradeapi\n",
    "from MCForecastTools import MCSimulation\n",
    "\n",
    "%matplotlib inline"
   ]
  },
  {
   "cell_type": "code",
   "execution_count": 2,
   "metadata": {},
   "outputs": [
    {
     "data": {
      "text/plain": [
       "False"
      ]
     },
     "execution_count": 2,
     "metadata": {},
     "output_type": "execute_result"
    }
   ],
   "source": [
    "# Load the environment variables from the .env file\n",
    "#by calling the load_dotenv function\n",
    "load_dotenv()"
   ]
  },
  {
   "cell_type": "markdown",
   "metadata": {},
   "source": [
    "## Part 1: Create a Financial Planner for Emergencies"
   ]
  },
  {
   "cell_type": "markdown",
   "metadata": {},
   "source": [
    "### Evaluate the Cryptocurrency Wallet by Using the Requests Library\n",
    "\n",
    "In this section, you’ll determine the current value of a member’s cryptocurrency wallet. You’ll collect the current prices for the Bitcoin and Ethereum cryptocurrencies by using the Python Requests library. For the prototype, you’ll assume that the member holds the 1.2 Bitcoins (BTC) and 5.3 Ethereum coins (ETH). To do all this, complete the following steps:\n",
    "\n",
    "1. Create a variable named `monthly_income`, and set its value to `12000`.\n",
    "\n",
    "2. Use the Requests library to get the current price (in US dollars) of Bitcoin (BTC) and Ethereum (ETH) by using the API endpoints that the starter code supplies.\n",
    "\n",
    "3. Navigate the JSON response object to access the current price of each coin, and store each in a variable.\n",
    "\n",
    "    > **Hint** Note the specific identifier for each cryptocurrency in the API JSON response. The Bitcoin identifier is `1`, and the Ethereum identifier is `1027`.\n",
    "\n",
    "4. Calculate the value, in US dollars, of the current amount of each cryptocurrency and of the entire cryptocurrency wallet.\n",
    "\n"
   ]
  },
  {
   "cell_type": "code",
   "execution_count": 3,
   "metadata": {},
   "outputs": [],
   "source": [
    "# The current number of coins for each cryptocurrency asset held in the portfolio.\n",
    "btc_coins = 1.2\n",
    "eth_coins = 5.3"
   ]
  },
  {
   "cell_type": "markdown",
   "metadata": {},
   "source": [
    "#### Step 1: Create a variable named `monthly_income`, and set its value to `12000`."
   ]
  },
  {
   "cell_type": "code",
   "execution_count": 4,
   "metadata": {},
   "outputs": [],
   "source": [
    "# The monthly amount for the member's household income\n",
    "# YOUR CODE HERE\n",
    "monthly_income = 12000"
   ]
  },
  {
   "cell_type": "markdown",
   "metadata": {},
   "source": [
    "#### Review the endpoint URLs for the API calls to Free Crypto API in order to get the current pricing information for both BTC and ETH."
   ]
  },
  {
   "cell_type": "code",
   "execution_count": 5,
   "metadata": {},
   "outputs": [],
   "source": [
    "# The Free Crypto API Call endpoint URLs for the held cryptocurrency assets\n",
    "btc_url = \"https://api.alternative.me/v2/ticker/Bitcoin/?convert=USD\"\n",
    "eth_url = \"https://api.alternative.me/v2/ticker/Ethereum/?convert=USD\""
   ]
  },
  {
   "cell_type": "markdown",
   "metadata": {},
   "source": [
    "#### Step 2. Use the Requests library to get the current price (in US dollars) of Bitcoin (BTC) and Ethereum (ETH) by using the API endpoints that the starter code supplied."
   ]
  },
  {
   "cell_type": "code",
   "execution_count": 15,
   "metadata": {},
   "outputs": [
    {
     "name": "stdout",
     "output_type": "stream",
     "text": [
      "{\n",
      "    \"data\": {\n",
      "        \"1\": {\n",
      "            \"circulating_supply\": 19348212,\n",
      "            \"id\": 1,\n",
      "            \"last_updated\": 1681691654,\n",
      "            \"max_supply\": 21000000,\n",
      "            \"name\": \"Bitcoin\",\n",
      "            \"quotes\": {\n",
      "                \"USD\": {\n",
      "                    \"market_cap\": 583955008785,\n",
      "                    \"percent_change_1h\": -0.506682183423776,\n",
      "                    \"percent_change_24h\": -0.569484049989377,\n",
      "                    \"percent_change_7d\": 6.35302077337217,\n",
      "                    \"percentage_change_1h\": -0.506682183423776,\n",
      "                    \"percentage_change_24h\": -0.569484049989377,\n",
      "                    \"percentage_change_7d\": 6.35302077337217,\n",
      "                    \"price\": 30152.0,\n",
      "                    \"volume_24h\": 11668190024\n",
      "                }\n",
      "            },\n",
      "            \"rank\": 1,\n",
      "            \"symbol\": \"BTC\",\n",
      "            \"total_supply\": 19348212,\n",
      "            \"website_slug\": \"bitcoin\"\n",
      "        }\n",
      "    },\n",
      "    \"metadata\": {\n",
      "        \"error\": null,\n",
      "        \"num_cryptocurrencies\": 3119,\n",
      "        \"timestamp\": 1681691654\n",
      "    }\n",
      "}\n"
     ]
    }
   ],
   "source": [
    "# Using the Python requests library, make an API call to access the current price of BTC\n",
    "btc_response = requests.get(btc_url).json()\n",
    "\n",
    "# Use the json.dumps function to review the response data from the API call\n",
    "# Use the indent and sort_keys parameters to make the response object readable\n",
    "# YOUR CODE HERE\n",
    "\n",
    "print(json.dumps(btc_response, indent=4, sort_keys=True))\n"
   ]
  },
  {
   "cell_type": "code",
   "execution_count": 23,
   "metadata": {},
   "outputs": [
    {
     "name": "stdout",
     "output_type": "stream",
     "text": [
      "{\n",
      "    \"data\": {\n",
      "        \"1027\": {\n",
      "            \"circulating_supply\": 119716878,\n",
      "            \"id\": 1027,\n",
      "            \"last_updated\": 1681691654,\n",
      "            \"max_supply\": 119716878,\n",
      "            \"name\": \"Ethereum\",\n",
      "            \"quotes\": {\n",
      "                \"USD\": {\n",
      "                    \"market_cap\": 252028296423,\n",
      "                    \"percent_change_1h\": -0.653780145592227,\n",
      "                    \"percent_change_24h\": 0.519531094962169,\n",
      "                    \"percent_change_7d\": 13.200181745986,\n",
      "                    \"percentage_change_1h\": -0.653780145592227,\n",
      "                    \"percentage_change_24h\": 0.519531094962169,\n",
      "                    \"percentage_change_7d\": 13.200181745986,\n",
      "                    \"price\": 2105.46,\n",
      "                    \"volume_24h\": 9079510971\n",
      "                }\n",
      "            },\n",
      "            \"rank\": 2,\n",
      "            \"symbol\": \"ETH\",\n",
      "            \"total_supply\": 119716878,\n",
      "            \"website_slug\": \"ethereum\"\n",
      "        }\n",
      "    },\n",
      "    \"metadata\": {\n",
      "        \"error\": null,\n",
      "        \"num_cryptocurrencies\": 3119,\n",
      "        \"timestamp\": 1681691654\n",
      "    }\n",
      "}\n"
     ]
    },
    {
     "data": {
      "text/plain": [
       "2105.46"
      ]
     },
     "execution_count": 23,
     "metadata": {},
     "output_type": "execute_result"
    }
   ],
   "source": [
    "# Using the Python requests library, make an API call to access the current price ETH\n",
    "eth_response = requests.get(eth_url).json()\n",
    "\n",
    "# Use the json.dumps function to review the response data from the API call\n",
    "# Use the indent and sort_keys parameters to make the response object readable\n",
    "# YOUR CODE HERE\n",
    "\n",
    "print(json.dumps(eth_response, indent=4, sort_keys=True))\n",
    "\n",
    "\n",
    "\n"
   ]
  },
  {
   "cell_type": "markdown",
   "metadata": {},
   "source": [
    "#### Step 3: Navigate the JSON response object to access the current price of each coin, and store each in a variable."
   ]
  },
  {
   "cell_type": "code",
   "execution_count": 26,
   "metadata": {},
   "outputs": [
    {
     "data": {
      "text/plain": [
       "30152.0"
      ]
     },
     "execution_count": 26,
     "metadata": {},
     "output_type": "execute_result"
    }
   ],
   "source": [
    "# Navigate the BTC response object to access the current price of BTC\n",
    "btc_price = btc_response['data']['1']['quotes']['USD']['price']\n",
    "print(btc_price)\n",
    "\n",
    "# Print the current price of BTC\n",
    "# YOUR CODE HERE\n"
   ]
  },
  {
   "cell_type": "code",
   "execution_count": 28,
   "metadata": {},
   "outputs": [
    {
     "name": "stdout",
     "output_type": "stream",
     "text": [
      "2105.46\n"
     ]
    },
    {
     "data": {
      "text/plain": [
       "float"
      ]
     },
     "execution_count": 28,
     "metadata": {},
     "output_type": "execute_result"
    }
   ],
   "source": [
    "# Navigate the BTC response object to access the current price of ETH\n",
    "eth_price = eth_response['data']['1027']['quotes']['USD']['price']\n",
    "print(eth_price)\n",
    "# Print the current price of ETH\n",
    "# YOUR CODE HERE\n"
   ]
  },
  {
   "cell_type": "markdown",
   "metadata": {},
   "source": [
    "### Step 4: Calculate the value, in US dollars, of the current amount of each cryptocurrency and of the entire cryptocurrency wallet."
   ]
  },
  {
   "cell_type": "code",
   "execution_count": 30,
   "metadata": {},
   "outputs": [
    {
     "name": "stdout",
     "output_type": "stream",
     "text": [
      "36182.4\n"
     ]
    }
   ],
   "source": [
    "# Compute the current value of the BTC holding \n",
    "btc_value = btc_coins * btc_price\n",
    "\n",
    "# Print current value of your holding in BTC\n",
    "# YOUR CODE HERE\n",
    "\n",
    "print(btc_value)"
   ]
  },
  {
   "cell_type": "code",
   "execution_count": 31,
   "metadata": {},
   "outputs": [
    {
     "name": "stdout",
     "output_type": "stream",
     "text": [
      "11158.938\n"
     ]
    }
   ],
   "source": [
    "# Compute the current value of the ETH holding \n",
    "eth_value = eth_coins * eth_price\n",
    "\n",
    "# Print current value of your holding in ETH\n",
    "# YOUR CODE HERE\n",
    "print(eth_value)"
   ]
  },
  {
   "cell_type": "code",
   "execution_count": 32,
   "metadata": {},
   "outputs": [
    {
     "name": "stdout",
     "output_type": "stream",
     "text": [
      "47341.338\n"
     ]
    }
   ],
   "source": [
    "# Compute the total value of the cryptocurrency wallet\n",
    "# Add the value of the BTC holding to the value of the ETH holding\n",
    "total_crypto_wallet = btc_value + eth_value\n",
    "\n",
    "# Print current cryptocurrency wallet balance\n",
    "# YOUR CODE HERE\n",
    "print(total_crypto_wallet)\n"
   ]
  },
  {
   "cell_type": "markdown",
   "metadata": {},
   "source": [
    "### Evaluate the Stock and Bond Holdings by Using the Alpaca SDK\n",
    "\n",
    "In this section, you’ll determine the current value of a member’s stock and bond holdings. You’ll make an API call to Alpaca via the Alpaca SDK to get the current closing prices of the SPDR S&P 500 ETF Trust (ticker: SPY) and of the iShares Core US Aggregate Bond ETF (ticker: AGG). For the prototype, assume that the member holds 110 shares of SPY, which represents the stock portion of their portfolio, and 200 shares of AGG, which represents the bond portion. To do all this, complete the following steps:\n",
    "\n",
    "1. In the `Starter_Code` folder, create an environment file (`.env`) to store the values of your Alpaca API key and Alpaca secret key.\n",
    "\n",
    "2. Set the variables for the Alpaca API and secret keys. Using the Alpaca SDK, create the Alpaca `tradeapi.REST` object. In this object, include the parameters for the Alpaca API key, the secret key, and the version number.\n",
    "\n",
    "3. Set the following parameters for the Alpaca API call:\n",
    "\n",
    "    - `tickers`: Use the tickers for the member’s stock and bond holdings.\n",
    "\n",
    "    - `timeframe`: Use a time frame of one day.\n",
    "\n",
    "    - `start_date` and `end_date`: Use the same date for these parameters, and format them with the date of the previous weekday (or `2020-08-07`). This is because you want the one closing price for the most-recent trading day.\n",
    "\n",
    "4. Get the current closing prices for `SPY` and `AGG` by using the Alpaca `get_bars` function. Format the response as a Pandas DataFrame by including the `df` property at the end of the `get_bars` function.\n",
    "\n",
    "5. Navigating the Alpaca response DataFrame, select the `SPY` and `AGG` closing prices, and store them as variables.\n",
    "\n",
    "6. Calculate the value, in US dollars, of the current amount of shares in each of the stock and bond portions of the portfolio, and print the results.\n"
   ]
  },
  {
   "cell_type": "markdown",
   "metadata": {},
   "source": [
    "#### Review the total number of shares held in both (SPY) and (AGG)."
   ]
  },
  {
   "cell_type": "code",
   "execution_count": 59,
   "metadata": {},
   "outputs": [],
   "source": [
    "# Current amount of shares held in both the stock (SPY) and bond (AGG) portion of the portfolio.\n",
    "spy_shares = 110\n",
    "agg_shares = 200\n"
   ]
  },
  {
   "cell_type": "markdown",
   "metadata": {},
   "source": [
    "#### Step 1: In the `Starter_Code` folder, create an environment file (`.env`) to store the values of your Alpaca API key and Alpaca secret key."
   ]
  },
  {
   "cell_type": "markdown",
   "metadata": {},
   "source": [
    "#### Step 2: Set the variables for the Alpaca API and secret keys. Using the Alpaca SDK, create the Alpaca `tradeapi.REST` object. In this object, include the parameters for the Alpaca API key, the secret key, and the version number."
   ]
  },
  {
   "cell_type": "code",
   "execution_count": 41,
   "metadata": {},
   "outputs": [],
   "source": [
    "# Set the variables for the Alpaca API and secret keys\n",
    "# YOUR CODE HERE\n",
    "# YOUR CODE HERE\n",
    "load_dotenv()\n",
    "Alpaca_Key_ID = os.getenv('Alpaca_Key_ID')\n",
    "ALPACA_SECRET = os.getenv('ALPACA_SECRET')\n",
    "\n",
    "\n",
    "# Create the Alpaca tradeapi.REST object\n",
    "# YOUR CODE HERE\n",
    "paca = tradeapi.REST(Alpaca_Key_ID, ALPACA_SECRET, api_version='v2')\n",
    "\n"
   ]
  },
  {
   "cell_type": "markdown",
   "metadata": {},
   "source": [
    "#### Step 3: Set the following parameters for the Alpaca API call:\n",
    "\n",
    "- `tickers`: Use the tickers for the member’s stock and bond holdings.\n",
    "\n",
    "- `timeframe`: Use a time frame of one day.\n",
    "\n",
    "- `start_date` and `end_date`: Use the same date for these parameters, and format them with the date of the previous weekday (or `2020-08-07`). This is because you want the one closing price for the most-recent trading day.\n"
   ]
  },
  {
   "cell_type": "code",
   "execution_count": 46,
   "metadata": {},
   "outputs": [],
   "source": [
    "# Set the tickers for both the bond and stock portion of the portfolio\n",
    "# YOUR CODE HERE\n",
    "tickers = ['SPY', 'AGG']\n",
    "\n",
    "\n",
    "# Set timeframe to 1Day\n",
    "# YOUR CODE HERE\n",
    "\n",
    "timeframe = '1Day'\n",
    "\n",
    "# Format current date as ISO format\n",
    "# Set both the start and end date at the date of your prior weekday \n",
    "# This will give you the closing price of the previous trading day\n",
    "\n",
    "#accidentally did last year but same does not really matter anyway\n",
    "start_date = pd.Timestamp(\"2022-04-14\", tz=\"America/New_York\").isoformat() \n",
    "end_date = pd.Timestamp(\"2022-04-14\", tz=\"America/New_York\").isoformat()\n",
    "# Alternatively you can use a start and end date of 2020-08-07\n",
    "# YOUR CODE HERE\n",
    "# YOUR CODE HERE"
   ]
  },
  {
   "cell_type": "markdown",
   "metadata": {},
   "source": [
    "#### Step 4: Get the current closing prices for `SPY` and `AGG` by using the Alpaca `get_bars` function. Format the response as a Pandas DataFrame by including the `df` property at the end of the `get_bars` function."
   ]
  },
  {
   "cell_type": "code",
   "execution_count": 55,
   "metadata": {},
   "outputs": [
    {
     "data": {
      "text/html": [
       "<div>\n",
       "<style scoped>\n",
       "    .dataframe tbody tr th:only-of-type {\n",
       "        vertical-align: middle;\n",
       "    }\n",
       "\n",
       "    .dataframe tbody tr th {\n",
       "        vertical-align: top;\n",
       "    }\n",
       "\n",
       "    .dataframe thead tr th {\n",
       "        text-align: left;\n",
       "    }\n",
       "\n",
       "    .dataframe thead tr:last-of-type th {\n",
       "        text-align: right;\n",
       "    }\n",
       "</style>\n",
       "<table border=\"1\" class=\"dataframe\">\n",
       "  <thead>\n",
       "    <tr>\n",
       "      <th></th>\n",
       "      <th colspan=\"7\" halign=\"left\">SPY</th>\n",
       "      <th colspan=\"7\" halign=\"left\">AGG</th>\n",
       "    </tr>\n",
       "    <tr>\n",
       "      <th></th>\n",
       "      <th>open</th>\n",
       "      <th>high</th>\n",
       "      <th>low</th>\n",
       "      <th>close</th>\n",
       "      <th>volume</th>\n",
       "      <th>trade_count</th>\n",
       "      <th>vwap</th>\n",
       "      <th>open</th>\n",
       "      <th>high</th>\n",
       "      <th>low</th>\n",
       "      <th>close</th>\n",
       "      <th>volume</th>\n",
       "      <th>trade_count</th>\n",
       "      <th>vwap</th>\n",
       "    </tr>\n",
       "    <tr>\n",
       "      <th>timestamp</th>\n",
       "      <th></th>\n",
       "      <th></th>\n",
       "      <th></th>\n",
       "      <th></th>\n",
       "      <th></th>\n",
       "      <th></th>\n",
       "      <th></th>\n",
       "      <th></th>\n",
       "      <th></th>\n",
       "      <th></th>\n",
       "      <th></th>\n",
       "      <th></th>\n",
       "      <th></th>\n",
       "      <th></th>\n",
       "    </tr>\n",
       "  </thead>\n",
       "  <tbody>\n",
       "    <tr>\n",
       "      <th>2022-04-14 04:00:00+00:00</th>\n",
       "      <td>443.8616</td>\n",
       "      <td>444.7301</td>\n",
       "      <td>437.68</td>\n",
       "      <td>437.79</td>\n",
       "      <td>97657351</td>\n",
       "      <td>703610</td>\n",
       "      <td>440.269366</td>\n",
       "      <td>104.73</td>\n",
       "      <td>104.74</td>\n",
       "      <td>103.93</td>\n",
       "      <td>103.97</td>\n",
       "      <td>8505911</td>\n",
       "      <td>30442</td>\n",
       "      <td>104.171732</td>\n",
       "    </tr>\n",
       "  </tbody>\n",
       "</table>\n",
       "</div>"
      ],
      "text/plain": [
       "                                SPY                                      \\\n",
       "                               open      high     low   close    volume   \n",
       "timestamp                                                                 \n",
       "2022-04-14 04:00:00+00:00  443.8616  444.7301  437.68  437.79  97657351   \n",
       "\n",
       "                                                      AGG                  \\\n",
       "                          trade_count        vwap    open    high     low   \n",
       "timestamp                                                                   \n",
       "2022-04-14 04:00:00+00:00      703610  440.269366  104.73  104.74  103.93   \n",
       "\n",
       "                                                                    \n",
       "                            close   volume trade_count        vwap  \n",
       "timestamp                                                           \n",
       "2022-04-14 04:00:00+00:00  103.97  8505911       30442  104.171732  "
      ]
     },
     "execution_count": 55,
     "metadata": {},
     "output_type": "execute_result"
    }
   ],
   "source": [
    "# Use the Alpaca get_bars function to get current closing prices the portfolio\n",
    "# Be sure to set the `df` property after the function to format the response object as a DataFrame\n",
    "# YOUR CODE HERE\n",
    "paca_df = paca.get_bars(tickers, timeframe, start=start_date, end=end_date).df\n",
    "paca_df\n",
    "\n",
    "\n",
    "\n",
    "# Reorganize the DataFrame\n",
    "spy = paca_df[paca_df['symbol'] =='SPY'].drop('symbol', axis=1)\n",
    "agg = paca_df[paca_df['symbol'] =='AGG'].drop('symbol', axis=1)\n",
    "\n",
    "# Separate ticker data\n",
    "# YOUR CODE HERE\n",
    "\n",
    "# Concatenate the ticker DataFrames\n",
    "# YOUR CODE HERE\n",
    "portfolio = pd.concat([spy, agg], axis = 1, keys = ['SPY', 'AGG'])\n",
    "# Review the first 5 rows of the Alpaca DataFrame\n",
    "# YOUR CODE HERE\n",
    "portfolio"
   ]
  },
  {
   "cell_type": "markdown",
   "metadata": {},
   "source": [
    "#### Step 5: Navigating the Alpaca response DataFrame, select the `SPY` and `AGG` closing prices, and store them as variables."
   ]
  },
  {
   "cell_type": "code",
   "execution_count": 71,
   "metadata": {},
   "outputs": [
    {
     "name": "stdout",
     "output_type": "stream",
     "text": [
      "103.97\n"
     ]
    }
   ],
   "source": [
    "# Access the closing price for AGG from the Alpaca DataFrame\n",
    "# Converting the value to a floating point number\n",
    "\n",
    "#iloc is necessary to isolate value without pulling in index\n",
    "agg_close_price = portfolio['AGG']['close'].iloc[0]\n",
    "print(agg_close_price)\n",
    "# Print the AGG closing price\n",
    "# YOUR CODE HERE\n"
   ]
  },
  {
   "cell_type": "code",
   "execution_count": 72,
   "metadata": {},
   "outputs": [
    {
     "name": "stdout",
     "output_type": "stream",
     "text": [
      "437.79\n"
     ]
    }
   ],
   "source": [
    "# Access the closing price for SPY from the Alpaca DataFrame\n",
    "# Converting the value to a floating point number\n",
    "\n",
    "#iloc is necessary to isolate value without pulling in index\n",
    "spy_close_price = portfolio['SPY']['close'].iloc[0]\n",
    "print(spy_close_price)\n",
    "\n",
    "# Print the SPY closing price\n",
    "# YOUR CODE HERE\n"
   ]
  },
  {
   "cell_type": "markdown",
   "metadata": {},
   "source": [
    "#### Step 6: Calculate the value, in US dollars, of the current amount of shares in each of the stock and bond portions of the portfolio, and print the results."
   ]
  },
  {
   "cell_type": "code",
   "execution_count": null,
   "metadata": {},
   "outputs": [],
   "source": []
  },
  {
   "cell_type": "code",
   "execution_count": 73,
   "metadata": {},
   "outputs": [
    {
     "name": "stdout",
     "output_type": "stream",
     "text": [
      "20794.0\n"
     ]
    }
   ],
   "source": [
    "# Calculate the current value of the bond portion of the portfolio\n",
    "agg_value = agg_close_price * agg_shares\n",
    "print(agg_value)\n",
    "\n",
    "# Print the current value of the bond portfolio\n",
    "# YOUR CODE HERE\n"
   ]
  },
  {
   "cell_type": "code",
   "execution_count": 74,
   "metadata": {},
   "outputs": [
    {
     "name": "stdout",
     "output_type": "stream",
     "text": [
      "48156.9\n"
     ]
    }
   ],
   "source": [
    "# Calculate the current value of the stock portion of the portfolio\n",
    "spy_value = spy_close_price * spy_shares\n",
    "print(spy_value)\n",
    "\n",
    "# Print the current value of the stock portfolio\n",
    "# YOUR CODE HERE\n"
   ]
  },
  {
   "cell_type": "code",
   "execution_count": 75,
   "metadata": {},
   "outputs": [
    {
     "name": "stdout",
     "output_type": "stream",
     "text": [
      "68950.9\n"
     ]
    }
   ],
   "source": [
    "# Calculate the total value of the stock and bond portion of the portfolio\n",
    "total_stocks_bonds = agg_value + spy_value\n",
    "\n",
    "# Print the current balance of the stock and bond portion of the portfolio\n",
    "# YOUR CODE HERE\n",
    "print(total_stocks_bonds)"
   ]
  },
  {
   "cell_type": "code",
   "execution_count": 76,
   "metadata": {},
   "outputs": [
    {
     "name": "stdout",
     "output_type": "stream",
     "text": [
      "116292.238\n"
     ]
    }
   ],
   "source": [
    "# Calculate the total value of the member's entire savings portfolio\n",
    "# Add the value of the cryptocurrency walled to the value of the total stocks and bonds\n",
    "total_portfolio = total_stocks_bonds + total_crypto_wallet\n",
    "print(total_portfolio)\n",
    "\n",
    "# Print current cryptocurrency wallet balance\n",
    "# YOUR CODE HERE\n"
   ]
  },
  {
   "cell_type": "markdown",
   "metadata": {},
   "source": [
    "### Evaluate the Emergency Fund\n",
    "\n",
    "In this section, you’ll use the valuations for the cryptocurrency wallet and for the stock and bond portions of the portfolio to determine if the credit union member has enough savings to build an emergency fund into their financial plan. To do this, complete the following steps:\n",
    "\n",
    "1. Create a Python list named `savings_data` that has two elements. The first element contains the total value of the cryptocurrency wallet. The second element contains the total value of the stock and bond portions of the portfolio.\n",
    "\n",
    "2. Use the `savings_data` list to create a Pandas DataFrame named `savings_df`, and then display this DataFrame. The function to create the DataFrame should take the following three parameters:\n",
    "\n",
    "    - `savings_data`: Use the list that you just created.\n",
    "\n",
    "    - `columns`: Set this parameter equal to a Python list with a single value called `amount`.\n",
    "\n",
    "    - `index`: Set this parameter equal to a Python list with the values of `crypto` and `stock/bond`.\n",
    "\n",
    "3. Use the `savings_df` DataFrame to plot a pie chart that visualizes the composition of the member’s portfolio. The y-axis of the pie chart uses `amount`. Be sure to add a title.\n",
    "\n",
    "4. Using Python, determine if the current portfolio has enough to create an emergency fund as part of the member’s financial plan. Ideally, an emergency fund should equal to three times the member’s monthly income. To do this, implement the following steps:\n",
    "\n",
    "    1. Create a variable named `emergency_fund_value`, and set it equal to three times the value of the member’s `monthly_income` of $12000. (You set this earlier in Part 1).\n",
    "\n",
    "    2. Create a series of three if statements to determine if the member’s total portfolio is large enough to fund the emergency portfolio:\n",
    "\n",
    "        1. If the total portfolio value is greater than the emergency fund value, display a message congratulating the member for having enough money in this fund.\n",
    "\n",
    "        2. Else if the total portfolio value is equal to the emergency fund value, display a message congratulating the member on reaching this important financial goal.\n",
    "\n",
    "        3. Else the total portfolio is less than the emergency fund value, so display a message showing how many dollars away the member is from reaching the goal. (Subtract the total portfolio value from the emergency fund value.)\n"
   ]
  },
  {
   "cell_type": "markdown",
   "metadata": {},
   "source": [
    "#### Step 1: Create a Python list named `savings_data` that has two elements. The first element contains the total value of the cryptocurrency wallet. The second element contains the total value of the stock and bond portions of the portfolio."
   ]
  },
  {
   "cell_type": "code",
   "execution_count": 77,
   "metadata": {},
   "outputs": [
    {
     "data": {
      "text/plain": [
       "[47341.338, 68950.9]"
      ]
     },
     "execution_count": 77,
     "metadata": {},
     "output_type": "execute_result"
    }
   ],
   "source": [
    "# Consolidate financial assets data into a Python list\n",
    "# YOUR CODE HERE\n",
    "savings_data = [total_crypto_wallet, total_stocks_bonds]\n",
    "\n",
    "# Review the Python list savings_data\n",
    "# YOUR CODE HERE\n",
    "    \n",
    "savings_data"
   ]
  },
  {
   "cell_type": "markdown",
   "metadata": {},
   "source": [
    "#### Step 2: Use the `savings_data` list to create a Pandas DataFrame named `savings_df`, and then display this DataFrame. The function to create the DataFrame should take the following three parameters:\n",
    "\n",
    "- `savings_data`: Use the list that you just created.\n",
    "\n",
    "- `columns`: Set this parameter equal to a Python list with a single value called `amount`.\n",
    "\n",
    "- `index`: Set this parameter equal to a Python list with the values of `crypto` and `stock/bond`.\n"
   ]
  },
  {
   "cell_type": "code",
   "execution_count": 90,
   "metadata": {},
   "outputs": [
    {
     "data": {
      "text/html": [
       "<div>\n",
       "<style scoped>\n",
       "    .dataframe tbody tr th:only-of-type {\n",
       "        vertical-align: middle;\n",
       "    }\n",
       "\n",
       "    .dataframe tbody tr th {\n",
       "        vertical-align: top;\n",
       "    }\n",
       "\n",
       "    .dataframe thead th {\n",
       "        text-align: right;\n",
       "    }\n",
       "</style>\n",
       "<table border=\"1\" class=\"dataframe\">\n",
       "  <thead>\n",
       "    <tr style=\"text-align: right;\">\n",
       "      <th></th>\n",
       "      <th>amount</th>\n",
       "    </tr>\n",
       "  </thead>\n",
       "  <tbody>\n",
       "    <tr>\n",
       "      <th>Crypto</th>\n",
       "      <td>47341.338</td>\n",
       "    </tr>\n",
       "    <tr>\n",
       "      <th>Stocks/Bonds</th>\n",
       "      <td>68950.900</td>\n",
       "    </tr>\n",
       "  </tbody>\n",
       "</table>\n",
       "</div>"
      ],
      "text/plain": [
       "                 amount\n",
       "Crypto        47341.338\n",
       "Stocks/Bonds  68950.900"
      ]
     },
     "execution_count": 90,
     "metadata": {},
     "output_type": "execute_result"
    }
   ],
   "source": [
    "# Create a Pandas DataFrame called savings_df \n",
    "# YOUR CODE HERE\n",
    "savings_df = pd.DataFrame(savings_data)\n",
    "\n",
    "# Display the savings_df DataFrame\n",
    "# YOUR CODE HERE\n",
    "\n",
    "#renaming index and column name to what it is required in pie chart of next step\n",
    "savings_df = savings_df.rename({0:'amount'}, axis=1)\n",
    "savings_df = savings_df.rename({0:'Crypto', 1:'Stocks/Bonds'})\n",
    "savings_df"
   ]
  },
  {
   "cell_type": "markdown",
   "metadata": {},
   "source": [
    "#### Step 3: Use the `savings_df` DataFrame to plot a pie chart that visualizes the composition of the member’s portfolio. The y-axis of the pie chart uses `amount`. Be sure to add a title."
   ]
  },
  {
   "cell_type": "code",
   "execution_count": 91,
   "metadata": {},
   "outputs": [
    {
     "data": {
      "text/plain": [
       "<AxesSubplot:title={'center':'Portfolio Composition - 2022-04-14'}, ylabel='amount'>"
      ]
     },
     "execution_count": 91,
     "metadata": {},
     "output_type": "execute_result"
    },
    {
     "data": {
      "image/png": "[encoded data removed]",
      "text/plain": [
       "<Figure size 640x480 with 1 Axes>"
      ]
     },
     "metadata": {},
     "output_type": "display_data"
    }
   ],
   "source": [
    "# Plot the total value of the member's portfolio (crypto and stock/bond) in a pie chart\n",
    "# YOUR CODE HERE\n",
    "\n",
    "savings_df.plot.pie(y='amount', title='Portfolio Composition - 2022-04-14')"
   ]
  },
  {
   "cell_type": "markdown",
   "metadata": {},
   "source": [
    "#### Step 4: Using Python, determine if the current portfolio has enough to create an emergency fund as part of the member’s financial plan. Ideally, an emergency fund should equal to three times the member’s monthly income. To do this, implement the following steps:\n",
    "\n",
    "Step 1. Create a variable named `emergency_fund_value`, and set it equal to three times the value of the member’s `monthly_income` of 12000. (You set this earlier in Part 1).\n",
    "\n",
    "Step 2. Create a series of three if statements to determine if the member’s total portfolio is large enough to fund the emergency portfolio:\n",
    "\n",
    "* If the total portfolio value is greater than the emergency fund value, display a message congratulating the member for having enough money in this fund.\n",
    "\n",
    "* Else if the total portfolio value is equal to the emergency fund value, display a message congratulating the member on reaching this important financial goal.\n",
    "\n",
    "* Else the total portfolio is less than the emergency fund value, so display a message showing how many dollars away the member is from reaching the goal. (Subtract the total portfolio value from the emergency fund value.)\n"
   ]
  },
  {
   "cell_type": "markdown",
   "metadata": {},
   "source": [
    "##### Step 4-1: Create a variable named `emergency_fund_value`, and set it equal to three times the value of the member’s `monthly_income` of 12000. (You set this earlier in Part 1)."
   ]
  },
  {
   "cell_type": "code",
   "execution_count": 100,
   "metadata": {},
   "outputs": [],
   "source": [
    "# Create a variable named emergency_fund_value\n",
    "# YOUR CODE HERE\n",
    "emergency_fund_value = 3 * monthly_income\n"
   ]
  },
  {
   "cell_type": "markdown",
   "metadata": {},
   "source": [
    "##### Step 4-2: Create a series of three if statements to determine if the member’s total portfolio is large enough to fund the emergency portfolio:\n",
    "\n",
    "* If the total portfolio value is greater than the emergency fund value, display a message congratulating the member for having enough money in this fund.\n",
    "\n",
    "* Else if the total portfolio value is equal to the emergency fund value, display a message congratulating the member on reaching this important financial goal.\n",
    "\n",
    "* Else the total portfolio is less than the emergency fund value, so display a message showing how many dollars away the member is from reaching the goal. (Subtract the total portfolio value from the emergency fund value.)"
   ]
  },
  {
   "cell_type": "code",
   "execution_count": 101,
   "metadata": {},
   "outputs": [
    {
     "name": "stdout",
     "output_type": "stream",
     "text": [
      "Congrats you have enough money\n"
     ]
    }
   ],
   "source": [
    "# Evaluate the possibility of creating an emergency fund with 3 conditions:\n",
    "# YOUR CODE HERE\n",
    "\n",
    "#control flowwwwwww\n",
    "if total_portfolio > emergency_fund_value:\n",
    "    print(f'Congrats you have enough money')\n",
    "elif total_portfolio == emergency_fund_value:\n",
    "    print(f'You reached your goal')\n",
    "else:\n",
    "    print(f'You are {emergency_fund_value - total_portfolio} dollars away from goal')\n",
    "# YOUR CODE HERE\n",
    "# YOUR CODE HERE\n"
   ]
  },
  {
   "cell_type": "markdown",
   "metadata": {},
   "source": [
    "## Part 2: Create a Financial Planner for Retirement"
   ]
  },
  {
   "cell_type": "markdown",
   "metadata": {},
   "source": [
    "### Create the Monte Carlo Simulation\n",
    "\n",
    "In this section, you’ll use the MCForecastTools library to create a Monte Carlo simulation for the member’s savings portfolio. To do this, complete the following steps:\n",
    "\n",
    "1. Make an API call via the Alpaca SDK to get 3 years of historical closing prices for a traditional 60/40 portfolio split: 60% stocks (SPY) and 40% bonds (AGG).\n",
    "\n",
    "2. Run a Monte Carlo simulation of 500 samples and 30 years for the 60/40 portfolio, and then plot the results.The following image shows the overlay line plot resulting from a simulation with these characteristics. However, because a random number generator is used to run each live Monte Carlo simulation, your image will differ slightly from this exact image:\n",
    "\n",
    "![A screenshot depicts the resulting plot.](Images/5-4-monte-carlo-line-plot.png)\n",
    "\n",
    "3. Plot the probability distribution of the Monte Carlo simulation. Plot the probability distribution of the Monte Carlo simulation. The following image shows the histogram plot resulting from a simulation with these characteristics. However, because a random number generator is used to run each live Monte Carlo simulation, your image will differ slightly from this exact image:\n",
    "\n",
    "![A screenshot depicts the histogram plot.](Images/5-4-monte-carlo-histogram.png)\n",
    "\n",
    "4. Generate the summary statistics for the Monte Carlo simulation.\n",
    "\n"
   ]
  },
  {
   "cell_type": "markdown",
   "metadata": {},
   "source": [
    "#### Step 1: Make an API call via the Alpaca SDK to get 3 years of historical closing prices for a traditional 60/40 portfolio split: 60% stocks (SPY) and 40% bonds (AGG)."
   ]
  },
  {
   "cell_type": "code",
   "execution_count": 102,
   "metadata": {},
   "outputs": [],
   "source": [
    "#grab keys from env file\n",
    "Alpaca_Key_ID = os.getenv('Alpaca_Key_ID')\n",
    "ALPACA_SECRET = os.getenv('ALPACA_SECRET')\n",
    "\n",
    "\n",
    "# Create the Alpaca tradeapi.REST object\n",
    "\n",
    "paca2 = tradeapi.REST(Alpaca_Key_ID, ALPACA_SECRET, api_version='v2')\n",
    "\n",
    "\n",
    "#specifying various parameters for the data to be read in\n",
    "\n",
    "tickers = ['SPY', 'AGG']\n",
    "timeframe = '1Day'\n",
    "\n",
    "start_date = pd.Timestamp(\"2020-04-14\", tz=\"America/New_York\").isoformat() \n",
    "end_date = pd.Timestamp(\"2023-04-14\", tz=\"America/New_York\").isoformat()\n"
   ]
  },
  {
   "cell_type": "code",
   "execution_count": 108,
   "metadata": {},
   "outputs": [
    {
     "data": {
      "text/html": [
       "<div>\n",
       "<style scoped>\n",
       "    .dataframe tbody tr th:only-of-type {\n",
       "        vertical-align: middle;\n",
       "    }\n",
       "\n",
       "    .dataframe tbody tr th {\n",
       "        vertical-align: top;\n",
       "    }\n",
       "\n",
       "    .dataframe thead tr th {\n",
       "        text-align: left;\n",
       "    }\n",
       "\n",
       "    .dataframe thead tr:last-of-type th {\n",
       "        text-align: right;\n",
       "    }\n",
       "</style>\n",
       "<table border=\"1\" class=\"dataframe\">\n",
       "  <thead>\n",
       "    <tr>\n",
       "      <th></th>\n",
       "      <th colspan=\"7\" halign=\"left\">SPY</th>\n",
       "      <th colspan=\"7\" halign=\"left\">AGG</th>\n",
       "    </tr>\n",
       "    <tr>\n",
       "      <th></th>\n",
       "      <th>open</th>\n",
       "      <th>high</th>\n",
       "      <th>low</th>\n",
       "      <th>close</th>\n",
       "      <th>volume</th>\n",
       "      <th>trade_count</th>\n",
       "      <th>vwap</th>\n",
       "      <th>open</th>\n",
       "      <th>high</th>\n",
       "      <th>low</th>\n",
       "      <th>close</th>\n",
       "      <th>volume</th>\n",
       "      <th>trade_count</th>\n",
       "      <th>vwap</th>\n",
       "    </tr>\n",
       "    <tr>\n",
       "      <th>timestamp</th>\n",
       "      <th></th>\n",
       "      <th></th>\n",
       "      <th></th>\n",
       "      <th></th>\n",
       "      <th></th>\n",
       "      <th></th>\n",
       "      <th></th>\n",
       "      <th></th>\n",
       "      <th></th>\n",
       "      <th></th>\n",
       "      <th></th>\n",
       "      <th></th>\n",
       "      <th></th>\n",
       "      <th></th>\n",
       "    </tr>\n",
       "  </thead>\n",
       "  <tbody>\n",
       "    <tr>\n",
       "      <th>2020-04-14 04:00:00+00:00</th>\n",
       "      <td>280.98</td>\n",
       "      <td>284.9000</td>\n",
       "      <td>275.5106</td>\n",
       "      <td>283.80</td>\n",
       "      <td>134143470</td>\n",
       "      <td>761246</td>\n",
       "      <td>282.089774</td>\n",
       "      <td>116.99</td>\n",
       "      <td>117.0000</td>\n",
       "      <td>116.585</td>\n",
       "      <td>116.76</td>\n",
       "      <td>5506671</td>\n",
       "      <td>23102</td>\n",
       "      <td>116.766750</td>\n",
       "    </tr>\n",
       "    <tr>\n",
       "      <th>2020-04-15 04:00:00+00:00</th>\n",
       "      <td>277.57</td>\n",
       "      <td>283.9407</td>\n",
       "      <td>275.4600</td>\n",
       "      <td>277.75</td>\n",
       "      <td>121779042</td>\n",
       "      <td>711140</td>\n",
       "      <td>277.826041</td>\n",
       "      <td>117.03</td>\n",
       "      <td>117.3050</td>\n",
       "      <td>116.710</td>\n",
       "      <td>117.24</td>\n",
       "      <td>4367410</td>\n",
       "      <td>19620</td>\n",
       "      <td>117.144915</td>\n",
       "    </tr>\n",
       "    <tr>\n",
       "      <th>2020-04-16 04:00:00+00:00</th>\n",
       "      <td>279.15</td>\n",
       "      <td>280.0300</td>\n",
       "      <td>275.7600</td>\n",
       "      <td>278.96</td>\n",
       "      <td>132398585</td>\n",
       "      <td>748801</td>\n",
       "      <td>278.840675</td>\n",
       "      <td>117.19</td>\n",
       "      <td>117.5250</td>\n",
       "      <td>117.190</td>\n",
       "      <td>117.39</td>\n",
       "      <td>4744716</td>\n",
       "      <td>16906</td>\n",
       "      <td>117.399687</td>\n",
       "    </tr>\n",
       "    <tr>\n",
       "      <th>2020-04-17 04:00:00+00:00</th>\n",
       "      <td>285.38</td>\n",
       "      <td>287.3000</td>\n",
       "      <td>282.4000</td>\n",
       "      <td>286.54</td>\n",
       "      <td>146685294</td>\n",
       "      <td>699788</td>\n",
       "      <td>284.307868</td>\n",
       "      <td>117.52</td>\n",
       "      <td>117.6200</td>\n",
       "      <td>117.035</td>\n",
       "      <td>117.25</td>\n",
       "      <td>4949824</td>\n",
       "      <td>25621</td>\n",
       "      <td>117.358347</td>\n",
       "    </tr>\n",
       "    <tr>\n",
       "      <th>2020-04-20 04:00:00+00:00</th>\n",
       "      <td>282.61</td>\n",
       "      <td>286.7912</td>\n",
       "      <td>281.3500</td>\n",
       "      <td>281.76</td>\n",
       "      <td>100109301</td>\n",
       "      <td>600459</td>\n",
       "      <td>283.731259</td>\n",
       "      <td>117.15</td>\n",
       "      <td>117.2800</td>\n",
       "      <td>116.940</td>\n",
       "      <td>117.08</td>\n",
       "      <td>3847904</td>\n",
       "      <td>18508</td>\n",
       "      <td>117.030930</td>\n",
       "    </tr>\n",
       "    <tr>\n",
       "      <th>...</th>\n",
       "      <td>...</td>\n",
       "      <td>...</td>\n",
       "      <td>...</td>\n",
       "      <td>...</td>\n",
       "      <td>...</td>\n",
       "      <td>...</td>\n",
       "      <td>...</td>\n",
       "      <td>...</td>\n",
       "      <td>...</td>\n",
       "      <td>...</td>\n",
       "      <td>...</td>\n",
       "      <td>...</td>\n",
       "      <td>...</td>\n",
       "      <td>...</td>\n",
       "    </tr>\n",
       "    <tr>\n",
       "      <th>2023-04-10 04:00:00+00:00</th>\n",
       "      <td>406.61</td>\n",
       "      <td>409.6900</td>\n",
       "      <td>405.9700</td>\n",
       "      <td>409.61</td>\n",
       "      <td>63693219</td>\n",
       "      <td>468483</td>\n",
       "      <td>408.081412</td>\n",
       "      <td>99.89</td>\n",
       "      <td>99.9100</td>\n",
       "      <td>99.600</td>\n",
       "      <td>99.75</td>\n",
       "      <td>4477958</td>\n",
       "      <td>21431</td>\n",
       "      <td>99.752952</td>\n",
       "    </tr>\n",
       "    <tr>\n",
       "      <th>2023-04-11 04:00:00+00:00</th>\n",
       "      <td>410.26</td>\n",
       "      <td>411.1800</td>\n",
       "      <td>408.9200</td>\n",
       "      <td>409.72</td>\n",
       "      <td>59316777</td>\n",
       "      <td>403316</td>\n",
       "      <td>410.018650</td>\n",
       "      <td>99.81</td>\n",
       "      <td>99.8800</td>\n",
       "      <td>99.590</td>\n",
       "      <td>99.81</td>\n",
       "      <td>4543803</td>\n",
       "      <td>19479</td>\n",
       "      <td>99.740336</td>\n",
       "    </tr>\n",
       "    <tr>\n",
       "      <th>2023-04-12 04:00:00+00:00</th>\n",
       "      <td>411.87</td>\n",
       "      <td>412.1700</td>\n",
       "      <td>407.4400</td>\n",
       "      <td>408.05</td>\n",
       "      <td>86440377</td>\n",
       "      <td>639926</td>\n",
       "      <td>409.706051</td>\n",
       "      <td>100.17</td>\n",
       "      <td>100.2000</td>\n",
       "      <td>99.610</td>\n",
       "      <td>99.93</td>\n",
       "      <td>7226122</td>\n",
       "      <td>33545</td>\n",
       "      <td>99.885733</td>\n",
       "    </tr>\n",
       "    <tr>\n",
       "      <th>2023-04-13 04:00:00+00:00</th>\n",
       "      <td>409.18</td>\n",
       "      <td>413.8400</td>\n",
       "      <td>407.9922</td>\n",
       "      <td>413.47</td>\n",
       "      <td>85814754</td>\n",
       "      <td>566796</td>\n",
       "      <td>411.717306</td>\n",
       "      <td>100.16</td>\n",
       "      <td>100.2677</td>\n",
       "      <td>99.805</td>\n",
       "      <td>99.89</td>\n",
       "      <td>3964799</td>\n",
       "      <td>18405</td>\n",
       "      <td>99.967812</td>\n",
       "    </tr>\n",
       "    <tr>\n",
       "      <th>2023-04-14 04:00:00+00:00</th>\n",
       "      <td>412.81</td>\n",
       "      <td>415.0900</td>\n",
       "      <td>410.0600</td>\n",
       "      <td>412.46</td>\n",
       "      <td>75973321</td>\n",
       "      <td>573427</td>\n",
       "      <td>412.263399</td>\n",
       "      <td>99.56</td>\n",
       "      <td>99.5900</td>\n",
       "      <td>99.320</td>\n",
       "      <td>99.40</td>\n",
       "      <td>4503010</td>\n",
       "      <td>19909</td>\n",
       "      <td>99.405533</td>\n",
       "    </tr>\n",
       "  </tbody>\n",
       "</table>\n",
       "<p>757 rows × 14 columns</p>\n",
       "</div>"
      ],
      "text/plain": [
       "                              SPY                                         \\\n",
       "                             open      high       low   close     volume   \n",
       "timestamp                                                                  \n",
       "2020-04-14 04:00:00+00:00  280.98  284.9000  275.5106  283.80  134143470   \n",
       "2020-04-15 04:00:00+00:00  277.57  283.9407  275.4600  277.75  121779042   \n",
       "2020-04-16 04:00:00+00:00  279.15  280.0300  275.7600  278.96  132398585   \n",
       "2020-04-17 04:00:00+00:00  285.38  287.3000  282.4000  286.54  146685294   \n",
       "2020-04-20 04:00:00+00:00  282.61  286.7912  281.3500  281.76  100109301   \n",
       "...                           ...       ...       ...     ...        ...   \n",
       "2023-04-10 04:00:00+00:00  406.61  409.6900  405.9700  409.61   63693219   \n",
       "2023-04-11 04:00:00+00:00  410.26  411.1800  408.9200  409.72   59316777   \n",
       "2023-04-12 04:00:00+00:00  411.87  412.1700  407.4400  408.05   86440377   \n",
       "2023-04-13 04:00:00+00:00  409.18  413.8400  407.9922  413.47   85814754   \n",
       "2023-04-14 04:00:00+00:00  412.81  415.0900  410.0600  412.46   75973321   \n",
       "\n",
       "                                                      AGG                     \\\n",
       "                          trade_count        vwap    open      high      low   \n",
       "timestamp                                                                      \n",
       "2020-04-14 04:00:00+00:00      761246  282.089774  116.99  117.0000  116.585   \n",
       "2020-04-15 04:00:00+00:00      711140  277.826041  117.03  117.3050  116.710   \n",
       "2020-04-16 04:00:00+00:00      748801  278.840675  117.19  117.5250  117.190   \n",
       "2020-04-17 04:00:00+00:00      699788  284.307868  117.52  117.6200  117.035   \n",
       "2020-04-20 04:00:00+00:00      600459  283.731259  117.15  117.2800  116.940   \n",
       "...                               ...         ...     ...       ...      ...   \n",
       "2023-04-10 04:00:00+00:00      468483  408.081412   99.89   99.9100   99.600   \n",
       "2023-04-11 04:00:00+00:00      403316  410.018650   99.81   99.8800   99.590   \n",
       "2023-04-12 04:00:00+00:00      639926  409.706051  100.17  100.2000   99.610   \n",
       "2023-04-13 04:00:00+00:00      566796  411.717306  100.16  100.2677   99.805   \n",
       "2023-04-14 04:00:00+00:00      573427  412.263399   99.56   99.5900   99.320   \n",
       "\n",
       "                                                                    \n",
       "                            close   volume trade_count        vwap  \n",
       "timestamp                                                           \n",
       "2020-04-14 04:00:00+00:00  116.76  5506671       23102  116.766750  \n",
       "2020-04-15 04:00:00+00:00  117.24  4367410       19620  117.144915  \n",
       "2020-04-16 04:00:00+00:00  117.39  4744716       16906  117.399687  \n",
       "2020-04-17 04:00:00+00:00  117.25  4949824       25621  117.358347  \n",
       "2020-04-20 04:00:00+00:00  117.08  3847904       18508  117.030930  \n",
       "...                           ...      ...         ...         ...  \n",
       "2023-04-10 04:00:00+00:00   99.75  4477958       21431   99.752952  \n",
       "2023-04-11 04:00:00+00:00   99.81  4543803       19479   99.740336  \n",
       "2023-04-12 04:00:00+00:00   99.93  7226122       33545   99.885733  \n",
       "2023-04-13 04:00:00+00:00   99.89  3964799       18405   99.967812  \n",
       "2023-04-14 04:00:00+00:00   99.40  4503010       19909   99.405533  \n",
       "\n",
       "[757 rows x 14 columns]"
      ]
     },
     "execution_count": 108,
     "metadata": {},
     "output_type": "execute_result"
    }
   ],
   "source": [
    "# Use the Alpaca get_bars function to make the API call to get the 3 years worth of pricing data\n",
    "# The tickers and timeframe parameters should have been set in Part 1 of this activity \n",
    "# The start and end dates should be updated with the information set above\n",
    "# Remember to add the df property to the end of the call so the response is returned as a DataFrame\n",
    "# YOUR CODE HERE\n",
    "\n",
    "price_df = paca2.get_bars(tickers, timeframe, start=start_date, end=end_date).df\n",
    "price_df\n",
    "\n",
    "#separating data for each symbol so I can recombine them more artfully\n",
    "spy = price_df[price_df['symbol'] =='SPY'].drop('symbol', axis=1)\n",
    "agg = price_df[price_df['symbol'] =='AGG'].drop('symbol', axis=1)\n",
    "\n",
    "# Separate ticker data\n",
    "# YOUR CODE HERE\n",
    "\n",
    "# Concatenate the ticker DataFrames\n",
    "# YOUR CODE HERE\n",
    "portfolio2 = pd.concat([spy, agg], axis = 1, keys = ['SPY', 'AGG'])\n",
    "portfolio2\n",
    "\n"
   ]
  },
  {
   "cell_type": "markdown",
   "metadata": {},
   "source": [
    "#### Step 2: Run a Monte Carlo simulation of 500 samples and 30 years for the 60/40 portfolio, and then plot the results."
   ]
  },
  {
   "cell_type": "code",
   "execution_count": 111,
   "metadata": {},
   "outputs": [
    {
     "name": "stdout",
     "output_type": "stream",
     "text": [
      "Running Monte Carlo simulation number 0.\n",
      "Running Monte Carlo simulation number 10.\n",
      "Running Monte Carlo simulation number 20.\n",
      "Running Monte Carlo simulation number 30.\n",
      "Running Monte Carlo simulation number 40.\n",
      "Running Monte Carlo simulation number 50.\n",
      "Running Monte Carlo simulation number 60.\n",
      "Running Monte Carlo simulation number 70.\n",
      "Running Monte Carlo simulation number 80.\n",
      "Running Monte Carlo simulation number 90.\n",
      "Running Monte Carlo simulation number 100.\n"
     ]
    },
    {
     "name": "stderr",
     "output_type": "stream",
     "text": [
      "/Users/willcolwell/Desktop/Fintech-Workspace/FinTechCourseWork/Mod5Chall/Starter_Code/MCForecastTools.py:117: PerformanceWarning: DataFrame is highly fragmented.  This is usually the result of calling `frame.insert` many times, which has poor performance.  Consider joining all columns at once using pd.concat(axis=1) instead.  To get a de-fragmented frame, use `newframe = frame.copy()`\n",
      "  portfolio_cumulative_returns[n] = (1 + sim_df.fillna(0)).cumprod()\n"
     ]
    },
    {
     "name": "stdout",
     "output_type": "stream",
     "text": [
      "Running Monte Carlo simulation number 110.\n",
      "Running Monte Carlo simulation number 120.\n",
      "Running Monte Carlo simulation number 130.\n",
      "Running Monte Carlo simulation number 140.\n",
      "Running Monte Carlo simulation number 150.\n",
      "Running Monte Carlo simulation number 160.\n",
      "Running Monte Carlo simulation number 170.\n",
      "Running Monte Carlo simulation number 180.\n",
      "Running Monte Carlo simulation number 190.\n",
      "Running Monte Carlo simulation number 200.\n",
      "Running Monte Carlo simulation number 210.\n",
      "Running Monte Carlo simulation number 220.\n",
      "Running Monte Carlo simulation number 230.\n",
      "Running Monte Carlo simulation number 240.\n",
      "Running Monte Carlo simulation number 250.\n",
      "Running Monte Carlo simulation number 260.\n",
      "Running Monte Carlo simulation number 270.\n",
      "Running Monte Carlo simulation number 280.\n",
      "Running Monte Carlo simulation number 290.\n",
      "Running Monte Carlo simulation number 300.\n",
      "Running Monte Carlo simulation number 310.\n",
      "Running Monte Carlo simulation number 320.\n",
      "Running Monte Carlo simulation number 330.\n",
      "Running Monte Carlo simulation number 340.\n",
      "Running Monte Carlo simulation number 350.\n",
      "Running Monte Carlo simulation number 360.\n",
      "Running Monte Carlo simulation number 370.\n",
      "Running Monte Carlo simulation number 380.\n",
      "Running Monte Carlo simulation number 390.\n",
      "Running Monte Carlo simulation number 400.\n",
      "Running Monte Carlo simulation number 410.\n",
      "Running Monte Carlo simulation number 420.\n",
      "Running Monte Carlo simulation number 430.\n",
      "Running Monte Carlo simulation number 440.\n",
      "Running Monte Carlo simulation number 450.\n",
      "Running Monte Carlo simulation number 460.\n",
      "Running Monte Carlo simulation number 470.\n",
      "Running Monte Carlo simulation number 480.\n",
      "Running Monte Carlo simulation number 490.\n"
     ]
    },
    {
     "data": {
      "text/html": [
       "<div>\n",
       "<style scoped>\n",
       "    .dataframe tbody tr th:only-of-type {\n",
       "        vertical-align: middle;\n",
       "    }\n",
       "\n",
       "    .dataframe tbody tr th {\n",
       "        vertical-align: top;\n",
       "    }\n",
       "\n",
       "    .dataframe thead th {\n",
       "        text-align: right;\n",
       "    }\n",
       "</style>\n",
       "<table border=\"1\" class=\"dataframe\">\n",
       "  <thead>\n",
       "    <tr style=\"text-align: right;\">\n",
       "      <th></th>\n",
       "      <th>0</th>\n",
       "      <th>1</th>\n",
       "      <th>2</th>\n",
       "      <th>3</th>\n",
       "      <th>4</th>\n",
       "      <th>5</th>\n",
       "      <th>6</th>\n",
       "      <th>7</th>\n",
       "      <th>8</th>\n",
       "      <th>9</th>\n",
       "      <th>...</th>\n",
       "      <th>490</th>\n",
       "      <th>491</th>\n",
       "      <th>492</th>\n",
       "      <th>493</th>\n",
       "      <th>494</th>\n",
       "      <th>495</th>\n",
       "      <th>496</th>\n",
       "      <th>497</th>\n",
       "      <th>498</th>\n",
       "      <th>499</th>\n",
       "    </tr>\n",
       "  </thead>\n",
       "  <tbody>\n",
       "    <tr>\n",
       "      <th>0</th>\n",
       "      <td>1.000000</td>\n",
       "      <td>1.000000</td>\n",
       "      <td>1.000000</td>\n",
       "      <td>1.000000</td>\n",
       "      <td>1.000000</td>\n",
       "      <td>1.000000</td>\n",
       "      <td>1.000000</td>\n",
       "      <td>1.000000</td>\n",
       "      <td>1.000000</td>\n",
       "      <td>1.000000</td>\n",
       "      <td>...</td>\n",
       "      <td>1.000000</td>\n",
       "      <td>1.000000</td>\n",
       "      <td>1.000000</td>\n",
       "      <td>1.000000</td>\n",
       "      <td>1.000000</td>\n",
       "      <td>1.000000</td>\n",
       "      <td>1.000000</td>\n",
       "      <td>1.000000</td>\n",
       "      <td>1.000000</td>\n",
       "      <td>1.000000</td>\n",
       "    </tr>\n",
       "    <tr>\n",
       "      <th>1</th>\n",
       "      <td>0.997711</td>\n",
       "      <td>0.987420</td>\n",
       "      <td>1.001041</td>\n",
       "      <td>1.004296</td>\n",
       "      <td>1.002461</td>\n",
       "      <td>0.989307</td>\n",
       "      <td>0.997871</td>\n",
       "      <td>1.000470</td>\n",
       "      <td>0.998225</td>\n",
       "      <td>0.990808</td>\n",
       "      <td>...</td>\n",
       "      <td>0.999175</td>\n",
       "      <td>0.994715</td>\n",
       "      <td>1.004677</td>\n",
       "      <td>0.993419</td>\n",
       "      <td>0.989956</td>\n",
       "      <td>0.990125</td>\n",
       "      <td>1.011303</td>\n",
       "      <td>1.000113</td>\n",
       "      <td>1.000521</td>\n",
       "      <td>0.989235</td>\n",
       "    </tr>\n",
       "    <tr>\n",
       "      <th>2</th>\n",
       "      <td>0.993170</td>\n",
       "      <td>0.977060</td>\n",
       "      <td>0.995932</td>\n",
       "      <td>0.995798</td>\n",
       "      <td>0.985680</td>\n",
       "      <td>0.983036</td>\n",
       "      <td>1.002994</td>\n",
       "      <td>1.012117</td>\n",
       "      <td>0.996977</td>\n",
       "      <td>0.985150</td>\n",
       "      <td>...</td>\n",
       "      <td>0.988593</td>\n",
       "      <td>0.992965</td>\n",
       "      <td>1.005114</td>\n",
       "      <td>0.989478</td>\n",
       "      <td>0.992705</td>\n",
       "      <td>0.994231</td>\n",
       "      <td>1.014686</td>\n",
       "      <td>0.992262</td>\n",
       "      <td>0.988509</td>\n",
       "      <td>0.995376</td>\n",
       "    </tr>\n",
       "    <tr>\n",
       "      <th>3</th>\n",
       "      <td>0.994449</td>\n",
       "      <td>0.984617</td>\n",
       "      <td>0.990780</td>\n",
       "      <td>0.988851</td>\n",
       "      <td>0.973953</td>\n",
       "      <td>0.979776</td>\n",
       "      <td>1.011996</td>\n",
       "      <td>1.011337</td>\n",
       "      <td>0.997481</td>\n",
       "      <td>0.980317</td>\n",
       "      <td>...</td>\n",
       "      <td>0.995458</td>\n",
       "      <td>0.999573</td>\n",
       "      <td>0.998027</td>\n",
       "      <td>0.975841</td>\n",
       "      <td>1.000795</td>\n",
       "      <td>1.007970</td>\n",
       "      <td>1.025426</td>\n",
       "      <td>0.997962</td>\n",
       "      <td>0.976595</td>\n",
       "      <td>1.004987</td>\n",
       "    </tr>\n",
       "    <tr>\n",
       "      <th>4</th>\n",
       "      <td>1.001250</td>\n",
       "      <td>0.983541</td>\n",
       "      <td>0.994573</td>\n",
       "      <td>0.990163</td>\n",
       "      <td>0.968147</td>\n",
       "      <td>0.984794</td>\n",
       "      <td>1.005608</td>\n",
       "      <td>1.017138</td>\n",
       "      <td>1.000741</td>\n",
       "      <td>0.981038</td>\n",
       "      <td>...</td>\n",
       "      <td>0.982006</td>\n",
       "      <td>0.985250</td>\n",
       "      <td>0.998876</td>\n",
       "      <td>0.976458</td>\n",
       "      <td>1.010635</td>\n",
       "      <td>1.009752</td>\n",
       "      <td>1.014481</td>\n",
       "      <td>1.000281</td>\n",
       "      <td>0.969972</td>\n",
       "      <td>1.004265</td>\n",
       "    </tr>\n",
       "    <tr>\n",
       "      <th>...</th>\n",
       "      <td>...</td>\n",
       "      <td>...</td>\n",
       "      <td>...</td>\n",
       "      <td>...</td>\n",
       "      <td>...</td>\n",
       "      <td>...</td>\n",
       "      <td>...</td>\n",
       "      <td>...</td>\n",
       "      <td>...</td>\n",
       "      <td>...</td>\n",
       "      <td>...</td>\n",
       "      <td>...</td>\n",
       "      <td>...</td>\n",
       "      <td>...</td>\n",
       "      <td>...</td>\n",
       "      <td>...</td>\n",
       "      <td>...</td>\n",
       "      <td>...</td>\n",
       "      <td>...</td>\n",
       "      <td>...</td>\n",
       "      <td>...</td>\n",
       "    </tr>\n",
       "    <tr>\n",
       "      <th>7556</th>\n",
       "      <td>8.128172</td>\n",
       "      <td>3.765789</td>\n",
       "      <td>5.029137</td>\n",
       "      <td>3.651033</td>\n",
       "      <td>3.362713</td>\n",
       "      <td>3.398254</td>\n",
       "      <td>9.451576</td>\n",
       "      <td>3.153233</td>\n",
       "      <td>5.002628</td>\n",
       "      <td>1.240335</td>\n",
       "      <td>...</td>\n",
       "      <td>5.323994</td>\n",
       "      <td>15.281372</td>\n",
       "      <td>7.299665</td>\n",
       "      <td>12.106353</td>\n",
       "      <td>5.751888</td>\n",
       "      <td>5.609800</td>\n",
       "      <td>3.673457</td>\n",
       "      <td>4.018035</td>\n",
       "      <td>4.806405</td>\n",
       "      <td>8.066513</td>\n",
       "    </tr>\n",
       "    <tr>\n",
       "      <th>7557</th>\n",
       "      <td>8.219110</td>\n",
       "      <td>3.749130</td>\n",
       "      <td>5.019695</td>\n",
       "      <td>3.627244</td>\n",
       "      <td>3.359014</td>\n",
       "      <td>3.411857</td>\n",
       "      <td>9.537296</td>\n",
       "      <td>3.121099</td>\n",
       "      <td>5.045824</td>\n",
       "      <td>1.242609</td>\n",
       "      <td>...</td>\n",
       "      <td>5.306469</td>\n",
       "      <td>15.419326</td>\n",
       "      <td>7.389891</td>\n",
       "      <td>12.011438</td>\n",
       "      <td>5.841321</td>\n",
       "      <td>5.640203</td>\n",
       "      <td>3.667427</td>\n",
       "      <td>4.020636</td>\n",
       "      <td>4.829073</td>\n",
       "      <td>8.069074</td>\n",
       "    </tr>\n",
       "    <tr>\n",
       "      <th>7558</th>\n",
       "      <td>8.250377</td>\n",
       "      <td>3.713634</td>\n",
       "      <td>5.036444</td>\n",
       "      <td>3.614059</td>\n",
       "      <td>3.336452</td>\n",
       "      <td>3.414306</td>\n",
       "      <td>9.577184</td>\n",
       "      <td>3.147528</td>\n",
       "      <td>5.044161</td>\n",
       "      <td>1.250191</td>\n",
       "      <td>...</td>\n",
       "      <td>5.289546</td>\n",
       "      <td>15.552469</td>\n",
       "      <td>7.418773</td>\n",
       "      <td>12.037654</td>\n",
       "      <td>5.849191</td>\n",
       "      <td>5.596810</td>\n",
       "      <td>3.649217</td>\n",
       "      <td>3.990382</td>\n",
       "      <td>4.859943</td>\n",
       "      <td>8.118147</td>\n",
       "    </tr>\n",
       "    <tr>\n",
       "      <th>7559</th>\n",
       "      <td>8.217790</td>\n",
       "      <td>3.772892</td>\n",
       "      <td>5.000927</td>\n",
       "      <td>3.641409</td>\n",
       "      <td>3.351237</td>\n",
       "      <td>3.422090</td>\n",
       "      <td>9.611931</td>\n",
       "      <td>3.127252</td>\n",
       "      <td>5.032320</td>\n",
       "      <td>1.250285</td>\n",
       "      <td>...</td>\n",
       "      <td>5.329169</td>\n",
       "      <td>15.438873</td>\n",
       "      <td>7.394740</td>\n",
       "      <td>12.137935</td>\n",
       "      <td>5.789058</td>\n",
       "      <td>5.650626</td>\n",
       "      <td>3.683232</td>\n",
       "      <td>3.996864</td>\n",
       "      <td>4.845019</td>\n",
       "      <td>8.192963</td>\n",
       "    </tr>\n",
       "    <tr>\n",
       "      <th>7560</th>\n",
       "      <td>8.185966</td>\n",
       "      <td>3.787421</td>\n",
       "      <td>5.017929</td>\n",
       "      <td>3.661628</td>\n",
       "      <td>3.375164</td>\n",
       "      <td>3.402542</td>\n",
       "      <td>9.623591</td>\n",
       "      <td>3.171003</td>\n",
       "      <td>5.074391</td>\n",
       "      <td>1.257486</td>\n",
       "      <td>...</td>\n",
       "      <td>5.299897</td>\n",
       "      <td>15.498687</td>\n",
       "      <td>7.434348</td>\n",
       "      <td>12.024054</td>\n",
       "      <td>5.820253</td>\n",
       "      <td>5.676073</td>\n",
       "      <td>3.705862</td>\n",
       "      <td>4.017412</td>\n",
       "      <td>4.873004</td>\n",
       "      <td>8.271438</td>\n",
       "    </tr>\n",
       "  </tbody>\n",
       "</table>\n",
       "<p>7561 rows × 500 columns</p>\n",
       "</div>"
      ],
      "text/plain": [
       "           0         1         2         3         4         5         6    \\\n",
       "0     1.000000  1.000000  1.000000  1.000000  1.000000  1.000000  1.000000   \n",
       "1     0.997711  0.987420  1.001041  1.004296  1.002461  0.989307  0.997871   \n",
       "2     0.993170  0.977060  0.995932  0.995798  0.985680  0.983036  1.002994   \n",
       "3     0.994449  0.984617  0.990780  0.988851  0.973953  0.979776  1.011996   \n",
       "4     1.001250  0.983541  0.994573  0.990163  0.968147  0.984794  1.005608   \n",
       "...        ...       ...       ...       ...       ...       ...       ...   \n",
       "7556  8.128172  3.765789  5.029137  3.651033  3.362713  3.398254  9.451576   \n",
       "7557  8.219110  3.749130  5.019695  3.627244  3.359014  3.411857  9.537296   \n",
       "7558  8.250377  3.713634  5.036444  3.614059  3.336452  3.414306  9.577184   \n",
       "7559  8.217790  3.772892  5.000927  3.641409  3.351237  3.422090  9.611931   \n",
       "7560  8.185966  3.787421  5.017929  3.661628  3.375164  3.402542  9.623591   \n",
       "\n",
       "           7         8         9    ...       490        491       492  \\\n",
       "0     1.000000  1.000000  1.000000  ...  1.000000   1.000000  1.000000   \n",
       "1     1.000470  0.998225  0.990808  ...  0.999175   0.994715  1.004677   \n",
       "2     1.012117  0.996977  0.985150  ...  0.988593   0.992965  1.005114   \n",
       "3     1.011337  0.997481  0.980317  ...  0.995458   0.999573  0.998027   \n",
       "4     1.017138  1.000741  0.981038  ...  0.982006   0.985250  0.998876   \n",
       "...        ...       ...       ...  ...       ...        ...       ...   \n",
       "7556  3.153233  5.002628  1.240335  ...  5.323994  15.281372  7.299665   \n",
       "7557  3.121099  5.045824  1.242609  ...  5.306469  15.419326  7.389891   \n",
       "7558  3.147528  5.044161  1.250191  ...  5.289546  15.552469  7.418773   \n",
       "7559  3.127252  5.032320  1.250285  ...  5.329169  15.438873  7.394740   \n",
       "7560  3.171003  5.074391  1.257486  ...  5.299897  15.498687  7.434348   \n",
       "\n",
       "            493       494       495       496       497       498       499  \n",
       "0      1.000000  1.000000  1.000000  1.000000  1.000000  1.000000  1.000000  \n",
       "1      0.993419  0.989956  0.990125  1.011303  1.000113  1.000521  0.989235  \n",
       "2      0.989478  0.992705  0.994231  1.014686  0.992262  0.988509  0.995376  \n",
       "3      0.975841  1.000795  1.007970  1.025426  0.997962  0.976595  1.004987  \n",
       "4      0.976458  1.010635  1.009752  1.014481  1.000281  0.969972  1.004265  \n",
       "...         ...       ...       ...       ...       ...       ...       ...  \n",
       "7556  12.106353  5.751888  5.609800  3.673457  4.018035  4.806405  8.066513  \n",
       "7557  12.011438  5.841321  5.640203  3.667427  4.020636  4.829073  8.069074  \n",
       "7558  12.037654  5.849191  5.596810  3.649217  3.990382  4.859943  8.118147  \n",
       "7559  12.137935  5.789058  5.650626  3.683232  3.996864  4.845019  8.192963  \n",
       "7560  12.024054  5.820253  5.676073  3.705862  4.017412  4.873004  8.271438  \n",
       "\n",
       "[7561 rows x 500 columns]"
      ]
     },
     "execution_count": 111,
     "metadata": {},
     "output_type": "execute_result"
    }
   ],
   "source": [
    "# Configure the Monte Carlo simulation to forecast 30 years cumulative returns\n",
    "# The weights should be split 40% to AGG and 60% to SPY.\n",
    "# Run 500 samples.\n",
    "# YOUR CODE HERE\n",
    "\n",
    "\n",
    "#config of simulation \n",
    "\n",
    "MC_simulation = MCSimulation(\n",
    "    portfolio_data = portfolio2,\n",
    "    weights = [.60, .40],\n",
    "    num_simulation = 500,\n",
    "    num_trading_days = 252*30\n",
    ")\n",
    "\n",
    "\n",
    "\n",
    "# Review the simulation input data\n",
    "# YOUR CODE HERE\n",
    "MS_simulation.portfolio_data.head()\n",
    "\n",
    "#running simulation\n",
    "MC_simulation.calc_cumulative_return()\n"
   ]
  },
  {
   "cell_type": "code",
   "execution_count": 112,
   "metadata": {},
   "outputs": [
    {
     "data": {
      "text/plain": [
       "<AxesSubplot:title={'center':'500 Simulations of Cumulative Portfolio Return Trajectories Over the Next 7560 Trading Days.'}>"
      ]
     },
     "execution_count": 112,
     "metadata": {},
     "output_type": "execute_result"
    },
    {
     "data": {
      "image/png": "[encoded data removed]",
      "text/plain": [
       "<Figure size 640x480 with 1 Axes>"
      ]
     },
     "metadata": {},
     "output_type": "display_data"
    }
   ],
   "source": [
    "# Visualize the 30-year Monte Carlo simulation by creating an\n",
    "# overlay line plot\n",
    "# YOUR CODE HERE\n",
    "\n",
    "simplot = MC_simulation.plot_simulation()\n",
    "simplot"
   ]
  },
  {
   "cell_type": "markdown",
   "metadata": {},
   "source": [
    "#### Step 3: Plot the probability distribution of the Monte Carlo simulation."
   ]
  },
  {
   "cell_type": "code",
   "execution_count": 113,
   "metadata": {},
   "outputs": [
    {
     "data": {
      "text/plain": [
       "<AxesSubplot:title={'center':'Distribution of Final Cumuluative Returns Across All 500 Simulations'}, ylabel='Frequency'>"
      ]
     },
     "execution_count": 113,
     "metadata": {},
     "output_type": "execute_result"
    },
    {
     "data": {
      "image/png": "[encoded data removed]",
      "text/plain": [
       "<Figure size 640x480 with 1 Axes>"
      ]
     },
     "metadata": {},
     "output_type": "display_data"
    }
   ],
   "source": [
    "# Visualize the probability distribution of the 30-year Monte Carlo simulation \n",
    "# by plotting a histogram\n",
    "# YOUR CODE HERE\n",
    "dist_plot = MC_simulation.plot_distribution()\n",
    "dist_plot"
   ]
  },
  {
   "cell_type": "markdown",
   "metadata": {},
   "source": [
    "#### Step 4: Generate the summary statistics for the Monte Carlo simulation."
   ]
  },
  {
   "cell_type": "code",
   "execution_count": 120,
   "metadata": {},
   "outputs": [
    {
     "data": {
      "text/plain": [
       "count           500.000000\n",
       "mean              7.077270\n",
       "std               4.895083\n",
       "min               0.900233\n",
       "25%               3.780755\n",
       "50%               5.702978\n",
       "75%               9.272977\n",
       "max              43.221354\n",
       "95% CI Lower      1.581775\n",
       "95% CI Upper     18.491165\n",
       "Name: 7560, dtype: float64"
      ]
     },
     "execution_count": 120,
     "metadata": {},
     "output_type": "execute_result"
    }
   ],
   "source": [
    "# Generate summary statistics from the 30-year Monte Carlo simulation results\n",
    "# Save the results as a variable\n",
    "# YOUR CODE HERE\n",
    "\n",
    "MC_overview = MC_simulation.summarize_cumulative_return()\n",
    "\n",
    "# Review the 30-year Monte Carlo summary statistics\n",
    "# YOUR CODE HERE\n",
    "MC_overview"
   ]
  },
  {
   "cell_type": "markdown",
   "metadata": {},
   "source": [
    "### Analyze the Retirement Portfolio Forecasts\n",
    "\n",
    "Using the current value of only the stock and bond portion of the member's portfolio and the summary statistics that you generated from the Monte Carlo simulation, answer the following question in your Jupyter notebook:\n",
    "\n",
    "-  What are the lower and upper bounds for the expected value of the portfolio with a 95% confidence interval?\n"
   ]
  },
  {
   "cell_type": "code",
   "execution_count": 117,
   "metadata": {},
   "outputs": [
    {
     "name": "stdout",
     "output_type": "stream",
     "text": [
      "68950.9\n"
     ]
    }
   ],
   "source": [
    "# Print the current balance of the stock and bond portion of the members portfolio\n",
    "# YOUR CODE HERE\n",
    "print(total_stocks_bonds)"
   ]
  },
  {
   "cell_type": "code",
   "execution_count": 121,
   "metadata": {},
   "outputs": [
    {
     "name": "stdout",
     "output_type": "stream",
     "text": [
      "109064.7843629993\n",
      "1274982.4703126657\n"
     ]
    }
   ],
   "source": [
    "# Use the lower and upper `95%` confidence intervals to calculate the range of the possible outcomes for the current stock/bond portfolio\n",
    "#accessing cis from the overview variable\n",
    "ci_lower_thirty_cumulative_return = total_stocks_bonds * MC_overview[8]\n",
    "ci_upper_thirty_cumulative_return = total_stocks_bonds * MC_overview[9]\n",
    "\n",
    "# Print the result of your calculations\n",
    "# YOUR CODE HERE\n",
    "print(ci_lower_thirty_cumulative_return)\n",
    "print(ci_upper_thirty_cumulative_return)"
   ]
  },
  {
   "cell_type": "markdown",
   "metadata": {},
   "source": [
    "### Forecast Cumulative Returns in 10 Years\n",
    "\n",
    "The CTO of the credit union is impressed with your work on these planning tools but wonders if 30 years is a long time to wait until retirement. So, your next task is to adjust the retirement portfolio and run a new Monte Carlo simulation to find out if the changes will allow members to retire earlier.\n",
    "\n",
    "For this new Monte Carlo simulation, do the following: \n",
    "\n",
    "- Forecast the cumulative returns for 10 years from now. Because of the shortened investment horizon (30 years to 10 years), the portfolio needs to invest more heavily in the riskier asset&mdash;that is, stock&mdash;to help accumulate wealth for retirement. \n",
    "\n",
    "- Adjust the weights of the retirement portfolio so that the composition for the Monte Carlo simulation consists of 20% bonds and 80% stocks. \n",
    "\n",
    "- Run the simulation over 500 samples, and use the same data that the API call to Alpaca generated.\n",
    "\n",
    "- Based on the new Monte Carlo simulation, answer the following questions in your Jupyter notebook:\n",
    "\n",
    "    - Using the current value of only the stock and bond portion of the member's portfolio and the summary statistics that you generated from the new Monte Carlo simulation, what are the lower and upper bounds for the expected value of the portfolio (with the new weights) with a 95% confidence interval?\n",
    "\n",
    "    - Will weighting the portfolio more heavily toward stocks allow the credit union members to retire after only 10 years?\n"
   ]
  },
  {
   "cell_type": "code",
   "execution_count": 126,
   "metadata": {},
   "outputs": [
    {
     "data": {
      "text/html": [
       "<div>\n",
       "<style scoped>\n",
       "    .dataframe tbody tr th:only-of-type {\n",
       "        vertical-align: middle;\n",
       "    }\n",
       "\n",
       "    .dataframe tbody tr th {\n",
       "        vertical-align: top;\n",
       "    }\n",
       "\n",
       "    .dataframe thead tr th {\n",
       "        text-align: left;\n",
       "    }\n",
       "\n",
       "    .dataframe thead tr:last-of-type th {\n",
       "        text-align: right;\n",
       "    }\n",
       "</style>\n",
       "<table border=\"1\" class=\"dataframe\">\n",
       "  <thead>\n",
       "    <tr>\n",
       "      <th></th>\n",
       "      <th colspan=\"8\" halign=\"left\">SPY</th>\n",
       "      <th colspan=\"8\" halign=\"left\">AGG</th>\n",
       "    </tr>\n",
       "    <tr>\n",
       "      <th></th>\n",
       "      <th>open</th>\n",
       "      <th>high</th>\n",
       "      <th>low</th>\n",
       "      <th>close</th>\n",
       "      <th>volume</th>\n",
       "      <th>trade_count</th>\n",
       "      <th>vwap</th>\n",
       "      <th>daily_return</th>\n",
       "      <th>open</th>\n",
       "      <th>high</th>\n",
       "      <th>low</th>\n",
       "      <th>close</th>\n",
       "      <th>volume</th>\n",
       "      <th>trade_count</th>\n",
       "      <th>vwap</th>\n",
       "      <th>daily_return</th>\n",
       "    </tr>\n",
       "    <tr>\n",
       "      <th>timestamp</th>\n",
       "      <th></th>\n",
       "      <th></th>\n",
       "      <th></th>\n",
       "      <th></th>\n",
       "      <th></th>\n",
       "      <th></th>\n",
       "      <th></th>\n",
       "      <th></th>\n",
       "      <th></th>\n",
       "      <th></th>\n",
       "      <th></th>\n",
       "      <th></th>\n",
       "      <th></th>\n",
       "      <th></th>\n",
       "      <th></th>\n",
       "      <th></th>\n",
       "    </tr>\n",
       "  </thead>\n",
       "  <tbody>\n",
       "    <tr>\n",
       "      <th>2020-04-14 04:00:00+00:00</th>\n",
       "      <td>280.98</td>\n",
       "      <td>284.9000</td>\n",
       "      <td>275.5106</td>\n",
       "      <td>283.80</td>\n",
       "      <td>134143470</td>\n",
       "      <td>761246</td>\n",
       "      <td>282.089774</td>\n",
       "      <td>NaN</td>\n",
       "      <td>116.99</td>\n",
       "      <td>117.000</td>\n",
       "      <td>116.585</td>\n",
       "      <td>116.76</td>\n",
       "      <td>5506671</td>\n",
       "      <td>23102</td>\n",
       "      <td>116.766750</td>\n",
       "      <td>NaN</td>\n",
       "    </tr>\n",
       "    <tr>\n",
       "      <th>2020-04-15 04:00:00+00:00</th>\n",
       "      <td>277.57</td>\n",
       "      <td>283.9407</td>\n",
       "      <td>275.4600</td>\n",
       "      <td>277.75</td>\n",
       "      <td>121779042</td>\n",
       "      <td>711140</td>\n",
       "      <td>277.826041</td>\n",
       "      <td>-0.021318</td>\n",
       "      <td>117.03</td>\n",
       "      <td>117.305</td>\n",
       "      <td>116.710</td>\n",
       "      <td>117.24</td>\n",
       "      <td>4367410</td>\n",
       "      <td>19620</td>\n",
       "      <td>117.144915</td>\n",
       "      <td>0.004111</td>\n",
       "    </tr>\n",
       "    <tr>\n",
       "      <th>2020-04-16 04:00:00+00:00</th>\n",
       "      <td>279.15</td>\n",
       "      <td>280.0300</td>\n",
       "      <td>275.7600</td>\n",
       "      <td>278.96</td>\n",
       "      <td>132398585</td>\n",
       "      <td>748801</td>\n",
       "      <td>278.840675</td>\n",
       "      <td>0.004356</td>\n",
       "      <td>117.19</td>\n",
       "      <td>117.525</td>\n",
       "      <td>117.190</td>\n",
       "      <td>117.39</td>\n",
       "      <td>4744716</td>\n",
       "      <td>16906</td>\n",
       "      <td>117.399687</td>\n",
       "      <td>0.001279</td>\n",
       "    </tr>\n",
       "    <tr>\n",
       "      <th>2020-04-17 04:00:00+00:00</th>\n",
       "      <td>285.38</td>\n",
       "      <td>287.3000</td>\n",
       "      <td>282.4000</td>\n",
       "      <td>286.54</td>\n",
       "      <td>146685294</td>\n",
       "      <td>699788</td>\n",
       "      <td>284.307868</td>\n",
       "      <td>0.027172</td>\n",
       "      <td>117.52</td>\n",
       "      <td>117.620</td>\n",
       "      <td>117.035</td>\n",
       "      <td>117.25</td>\n",
       "      <td>4949824</td>\n",
       "      <td>25621</td>\n",
       "      <td>117.358347</td>\n",
       "      <td>-0.001193</td>\n",
       "    </tr>\n",
       "    <tr>\n",
       "      <th>2020-04-20 04:00:00+00:00</th>\n",
       "      <td>282.61</td>\n",
       "      <td>286.7912</td>\n",
       "      <td>281.3500</td>\n",
       "      <td>281.76</td>\n",
       "      <td>100109301</td>\n",
       "      <td>600459</td>\n",
       "      <td>283.731259</td>\n",
       "      <td>-0.016682</td>\n",
       "      <td>117.15</td>\n",
       "      <td>117.280</td>\n",
       "      <td>116.940</td>\n",
       "      <td>117.08</td>\n",
       "      <td>3847904</td>\n",
       "      <td>18508</td>\n",
       "      <td>117.030930</td>\n",
       "      <td>-0.001450</td>\n",
       "    </tr>\n",
       "  </tbody>\n",
       "</table>\n",
       "</div>"
      ],
      "text/plain": [
       "                              SPY                                         \\\n",
       "                             open      high       low   close     volume   \n",
       "timestamp                                                                  \n",
       "2020-04-14 04:00:00+00:00  280.98  284.9000  275.5106  283.80  134143470   \n",
       "2020-04-15 04:00:00+00:00  277.57  283.9407  275.4600  277.75  121779042   \n",
       "2020-04-16 04:00:00+00:00  279.15  280.0300  275.7600  278.96  132398585   \n",
       "2020-04-17 04:00:00+00:00  285.38  287.3000  282.4000  286.54  146685294   \n",
       "2020-04-20 04:00:00+00:00  282.61  286.7912  281.3500  281.76  100109301   \n",
       "\n",
       "                                                                   AGG  \\\n",
       "                          trade_count        vwap daily_return    open   \n",
       "timestamp                                                                \n",
       "2020-04-14 04:00:00+00:00      761246  282.089774          NaN  116.99   \n",
       "2020-04-15 04:00:00+00:00      711140  277.826041    -0.021318  117.03   \n",
       "2020-04-16 04:00:00+00:00      748801  278.840675     0.004356  117.19   \n",
       "2020-04-17 04:00:00+00:00      699788  284.307868     0.027172  117.52   \n",
       "2020-04-20 04:00:00+00:00      600459  283.731259    -0.016682  117.15   \n",
       "\n",
       "                                                                          \\\n",
       "                              high      low   close   volume trade_count   \n",
       "timestamp                                                                  \n",
       "2020-04-14 04:00:00+00:00  117.000  116.585  116.76  5506671       23102   \n",
       "2020-04-15 04:00:00+00:00  117.305  116.710  117.24  4367410       19620   \n",
       "2020-04-16 04:00:00+00:00  117.525  117.190  117.39  4744716       16906   \n",
       "2020-04-17 04:00:00+00:00  117.620  117.035  117.25  4949824       25621   \n",
       "2020-04-20 04:00:00+00:00  117.280  116.940  117.08  3847904       18508   \n",
       "\n",
       "                                                    \n",
       "                                 vwap daily_return  \n",
       "timestamp                                           \n",
       "2020-04-14 04:00:00+00:00  116.766750          NaN  \n",
       "2020-04-15 04:00:00+00:00  117.144915     0.004111  \n",
       "2020-04-16 04:00:00+00:00  117.399687     0.001279  \n",
       "2020-04-17 04:00:00+00:00  117.358347    -0.001193  \n",
       "2020-04-20 04:00:00+00:00  117.030930    -0.001450  "
      ]
     },
     "execution_count": 126,
     "metadata": {},
     "output_type": "execute_result"
    }
   ],
   "source": [
    "# Configure a Monte Carlo simulation to forecast 10 years cumulative returns\n",
    "# The weights should be split 20% to AGG and 80% to SPY.\n",
    "# Run 500 samples.\n",
    "# YOUR CODE HERE\n",
    "\n",
    "\n",
    "MC_simulation2 = MCSimulation(\n",
    "    portfolio_data = portfolio2,\n",
    "    weights = [.80, .20],\n",
    "    num_simulation = 500,\n",
    "    num_trading_days = 252*10\n",
    ")\n",
    "\n",
    "\n",
    "\n",
    "# Review the simulation input data\n",
    "# YOUR CODE HERE\n",
    "MC_simulation2.portfolio_data.head()\n",
    "\n",
    "# Review the simulation input data\n",
    "# YOUR CODE HERE\n"
   ]
  },
  {
   "cell_type": "code",
   "execution_count": 127,
   "metadata": {},
   "outputs": [
    {
     "name": "stdout",
     "output_type": "stream",
     "text": [
      "Running Monte Carlo simulation number 0.\n",
      "Running Monte Carlo simulation number 10.\n",
      "Running Monte Carlo simulation number 20.\n",
      "Running Monte Carlo simulation number 30.\n",
      "Running Monte Carlo simulation number 40.\n",
      "Running Monte Carlo simulation number 50.\n",
      "Running Monte Carlo simulation number 60.\n",
      "Running Monte Carlo simulation number 70.\n",
      "Running Monte Carlo simulation number 80.\n",
      "Running Monte Carlo simulation number 90.\n",
      "Running Monte Carlo simulation number 100.\n"
     ]
    },
    {
     "name": "stderr",
     "output_type": "stream",
     "text": [
      "/Users/willcolwell/Desktop/Fintech-Workspace/FinTechCourseWork/Mod5Chall/Starter_Code/MCForecastTools.py:117: PerformanceWarning: DataFrame is highly fragmented.  This is usually the result of calling `frame.insert` many times, which has poor performance.  Consider joining all columns at once using pd.concat(axis=1) instead.  To get a de-fragmented frame, use `newframe = frame.copy()`\n",
      "  portfolio_cumulative_returns[n] = (1 + sim_df.fillna(0)).cumprod()\n"
     ]
    },
    {
     "name": "stdout",
     "output_type": "stream",
     "text": [
      "Running Monte Carlo simulation number 110.\n",
      "Running Monte Carlo simulation number 120.\n",
      "Running Monte Carlo simulation number 130.\n",
      "Running Monte Carlo simulation number 140.\n",
      "Running Monte Carlo simulation number 150.\n",
      "Running Monte Carlo simulation number 160.\n",
      "Running Monte Carlo simulation number 170.\n",
      "Running Monte Carlo simulation number 180.\n",
      "Running Monte Carlo simulation number 190.\n",
      "Running Monte Carlo simulation number 200.\n",
      "Running Monte Carlo simulation number 210.\n",
      "Running Monte Carlo simulation number 220.\n",
      "Running Monte Carlo simulation number 230.\n",
      "Running Monte Carlo simulation number 240.\n",
      "Running Monte Carlo simulation number 250.\n",
      "Running Monte Carlo simulation number 260.\n",
      "Running Monte Carlo simulation number 270.\n",
      "Running Monte Carlo simulation number 280.\n",
      "Running Monte Carlo simulation number 290.\n",
      "Running Monte Carlo simulation number 300.\n",
      "Running Monte Carlo simulation number 310.\n",
      "Running Monte Carlo simulation number 320.\n",
      "Running Monte Carlo simulation number 330.\n",
      "Running Monte Carlo simulation number 340.\n",
      "Running Monte Carlo simulation number 350.\n",
      "Running Monte Carlo simulation number 360.\n",
      "Running Monte Carlo simulation number 370.\n",
      "Running Monte Carlo simulation number 380.\n",
      "Running Monte Carlo simulation number 390.\n",
      "Running Monte Carlo simulation number 400.\n",
      "Running Monte Carlo simulation number 410.\n",
      "Running Monte Carlo simulation number 420.\n",
      "Running Monte Carlo simulation number 430.\n",
      "Running Monte Carlo simulation number 440.\n",
      "Running Monte Carlo simulation number 450.\n",
      "Running Monte Carlo simulation number 460.\n",
      "Running Monte Carlo simulation number 470.\n",
      "Running Monte Carlo simulation number 480.\n",
      "Running Monte Carlo simulation number 490.\n"
     ]
    },
    {
     "data": {
      "text/html": [
       "<div>\n",
       "<style scoped>\n",
       "    .dataframe tbody tr th:only-of-type {\n",
       "        vertical-align: middle;\n",
       "    }\n",
       "\n",
       "    .dataframe tbody tr th {\n",
       "        vertical-align: top;\n",
       "    }\n",
       "\n",
       "    .dataframe thead th {\n",
       "        text-align: right;\n",
       "    }\n",
       "</style>\n",
       "<table border=\"1\" class=\"dataframe\">\n",
       "  <thead>\n",
       "    <tr style=\"text-align: right;\">\n",
       "      <th></th>\n",
       "      <th>0</th>\n",
       "      <th>1</th>\n",
       "      <th>2</th>\n",
       "      <th>3</th>\n",
       "      <th>4</th>\n",
       "      <th>5</th>\n",
       "      <th>6</th>\n",
       "      <th>7</th>\n",
       "      <th>8</th>\n",
       "      <th>9</th>\n",
       "      <th>...</th>\n",
       "      <th>490</th>\n",
       "      <th>491</th>\n",
       "      <th>492</th>\n",
       "      <th>493</th>\n",
       "      <th>494</th>\n",
       "      <th>495</th>\n",
       "      <th>496</th>\n",
       "      <th>497</th>\n",
       "      <th>498</th>\n",
       "      <th>499</th>\n",
       "    </tr>\n",
       "  </thead>\n",
       "  <tbody>\n",
       "    <tr>\n",
       "      <th>0</th>\n",
       "      <td>1.000000</td>\n",
       "      <td>1.000000</td>\n",
       "      <td>1.000000</td>\n",
       "      <td>1.000000</td>\n",
       "      <td>1.000000</td>\n",
       "      <td>1.000000</td>\n",
       "      <td>1.000000</td>\n",
       "      <td>1.000000</td>\n",
       "      <td>1.000000</td>\n",
       "      <td>1.000000</td>\n",
       "      <td>...</td>\n",
       "      <td>1.000000</td>\n",
       "      <td>1.000000</td>\n",
       "      <td>1.000000</td>\n",
       "      <td>1.000000</td>\n",
       "      <td>1.000000</td>\n",
       "      <td>1.000000</td>\n",
       "      <td>1.000000</td>\n",
       "      <td>1.000000</td>\n",
       "      <td>1.000000</td>\n",
       "      <td>1.000000</td>\n",
       "    </tr>\n",
       "    <tr>\n",
       "      <th>1</th>\n",
       "      <td>1.008030</td>\n",
       "      <td>0.983822</td>\n",
       "      <td>1.000389</td>\n",
       "      <td>1.012316</td>\n",
       "      <td>0.988661</td>\n",
       "      <td>1.010075</td>\n",
       "      <td>0.987244</td>\n",
       "      <td>1.008821</td>\n",
       "      <td>1.002913</td>\n",
       "      <td>1.011958</td>\n",
       "      <td>...</td>\n",
       "      <td>0.988718</td>\n",
       "      <td>0.983643</td>\n",
       "      <td>0.998219</td>\n",
       "      <td>0.979441</td>\n",
       "      <td>0.993619</td>\n",
       "      <td>0.995350</td>\n",
       "      <td>0.995030</td>\n",
       "      <td>0.986486</td>\n",
       "      <td>0.994401</td>\n",
       "      <td>1.005254</td>\n",
       "    </tr>\n",
       "    <tr>\n",
       "      <th>2</th>\n",
       "      <td>0.996490</td>\n",
       "      <td>0.971385</td>\n",
       "      <td>1.001887</td>\n",
       "      <td>1.010796</td>\n",
       "      <td>0.995919</td>\n",
       "      <td>1.005516</td>\n",
       "      <td>0.979733</td>\n",
       "      <td>1.012259</td>\n",
       "      <td>1.008688</td>\n",
       "      <td>1.015344</td>\n",
       "      <td>...</td>\n",
       "      <td>1.002793</td>\n",
       "      <td>0.968244</td>\n",
       "      <td>0.986698</td>\n",
       "      <td>0.973424</td>\n",
       "      <td>1.003544</td>\n",
       "      <td>1.002653</td>\n",
       "      <td>1.002891</td>\n",
       "      <td>1.002214</td>\n",
       "      <td>1.004079</td>\n",
       "      <td>1.019029</td>\n",
       "    </tr>\n",
       "    <tr>\n",
       "      <th>3</th>\n",
       "      <td>0.998701</td>\n",
       "      <td>0.954048</td>\n",
       "      <td>1.013720</td>\n",
       "      <td>1.016566</td>\n",
       "      <td>0.982827</td>\n",
       "      <td>0.989473</td>\n",
       "      <td>0.979579</td>\n",
       "      <td>1.014123</td>\n",
       "      <td>0.984997</td>\n",
       "      <td>1.000941</td>\n",
       "      <td>...</td>\n",
       "      <td>1.003268</td>\n",
       "      <td>0.975058</td>\n",
       "      <td>0.984930</td>\n",
       "      <td>0.975967</td>\n",
       "      <td>1.007015</td>\n",
       "      <td>1.001361</td>\n",
       "      <td>1.021211</td>\n",
       "      <td>0.986790</td>\n",
       "      <td>1.004441</td>\n",
       "      <td>1.024959</td>\n",
       "    </tr>\n",
       "    <tr>\n",
       "      <th>4</th>\n",
       "      <td>0.998612</td>\n",
       "      <td>0.945442</td>\n",
       "      <td>0.997640</td>\n",
       "      <td>1.014225</td>\n",
       "      <td>0.988839</td>\n",
       "      <td>0.998179</td>\n",
       "      <td>0.975975</td>\n",
       "      <td>1.014846</td>\n",
       "      <td>0.989703</td>\n",
       "      <td>1.003965</td>\n",
       "      <td>...</td>\n",
       "      <td>1.010922</td>\n",
       "      <td>0.968750</td>\n",
       "      <td>0.979592</td>\n",
       "      <td>0.970164</td>\n",
       "      <td>0.996275</td>\n",
       "      <td>1.008996</td>\n",
       "      <td>1.020200</td>\n",
       "      <td>0.981696</td>\n",
       "      <td>1.011496</td>\n",
       "      <td>1.023716</td>\n",
       "    </tr>\n",
       "    <tr>\n",
       "      <th>...</th>\n",
       "      <td>...</td>\n",
       "      <td>...</td>\n",
       "      <td>...</td>\n",
       "      <td>...</td>\n",
       "      <td>...</td>\n",
       "      <td>...</td>\n",
       "      <td>...</td>\n",
       "      <td>...</td>\n",
       "      <td>...</td>\n",
       "      <td>...</td>\n",
       "      <td>...</td>\n",
       "      <td>...</td>\n",
       "      <td>...</td>\n",
       "      <td>...</td>\n",
       "      <td>...</td>\n",
       "      <td>...</td>\n",
       "      <td>...</td>\n",
       "      <td>...</td>\n",
       "      <td>...</td>\n",
       "      <td>...</td>\n",
       "      <td>...</td>\n",
       "    </tr>\n",
       "    <tr>\n",
       "      <th>2516</th>\n",
       "      <td>1.253825</td>\n",
       "      <td>1.791937</td>\n",
       "      <td>0.621804</td>\n",
       "      <td>5.700387</td>\n",
       "      <td>4.062078</td>\n",
       "      <td>3.266759</td>\n",
       "      <td>1.653960</td>\n",
       "      <td>0.986790</td>\n",
       "      <td>2.522245</td>\n",
       "      <td>5.143859</td>\n",
       "      <td>...</td>\n",
       "      <td>3.772349</td>\n",
       "      <td>1.563025</td>\n",
       "      <td>4.067637</td>\n",
       "      <td>4.714883</td>\n",
       "      <td>4.875459</td>\n",
       "      <td>1.689637</td>\n",
       "      <td>3.772302</td>\n",
       "      <td>3.405105</td>\n",
       "      <td>1.264347</td>\n",
       "      <td>3.634571</td>\n",
       "    </tr>\n",
       "    <tr>\n",
       "      <th>2517</th>\n",
       "      <td>1.252399</td>\n",
       "      <td>1.804512</td>\n",
       "      <td>0.631654</td>\n",
       "      <td>5.700178</td>\n",
       "      <td>4.054129</td>\n",
       "      <td>3.256668</td>\n",
       "      <td>1.653325</td>\n",
       "      <td>0.983368</td>\n",
       "      <td>2.507842</td>\n",
       "      <td>5.130195</td>\n",
       "      <td>...</td>\n",
       "      <td>3.817302</td>\n",
       "      <td>1.560509</td>\n",
       "      <td>4.011358</td>\n",
       "      <td>4.766809</td>\n",
       "      <td>4.810314</td>\n",
       "      <td>1.693460</td>\n",
       "      <td>3.825401</td>\n",
       "      <td>3.391990</td>\n",
       "      <td>1.276444</td>\n",
       "      <td>3.642859</td>\n",
       "    </tr>\n",
       "    <tr>\n",
       "      <th>2518</th>\n",
       "      <td>1.248401</td>\n",
       "      <td>1.792594</td>\n",
       "      <td>0.624846</td>\n",
       "      <td>5.706444</td>\n",
       "      <td>4.020376</td>\n",
       "      <td>3.274299</td>\n",
       "      <td>1.643987</td>\n",
       "      <td>0.991507</td>\n",
       "      <td>2.541628</td>\n",
       "      <td>5.219778</td>\n",
       "      <td>...</td>\n",
       "      <td>3.842705</td>\n",
       "      <td>1.540089</td>\n",
       "      <td>4.065853</td>\n",
       "      <td>4.747549</td>\n",
       "      <td>4.846747</td>\n",
       "      <td>1.692118</td>\n",
       "      <td>3.823399</td>\n",
       "      <td>3.413628</td>\n",
       "      <td>1.268500</td>\n",
       "      <td>3.582150</td>\n",
       "    </tr>\n",
       "    <tr>\n",
       "      <th>2519</th>\n",
       "      <td>1.259186</td>\n",
       "      <td>1.809320</td>\n",
       "      <td>0.632845</td>\n",
       "      <td>5.697513</td>\n",
       "      <td>4.041673</td>\n",
       "      <td>3.317162</td>\n",
       "      <td>1.649735</td>\n",
       "      <td>1.000871</td>\n",
       "      <td>2.517288</td>\n",
       "      <td>5.266593</td>\n",
       "      <td>...</td>\n",
       "      <td>3.860284</td>\n",
       "      <td>1.549577</td>\n",
       "      <td>4.066339</td>\n",
       "      <td>4.677441</td>\n",
       "      <td>4.842221</td>\n",
       "      <td>1.725958</td>\n",
       "      <td>3.715397</td>\n",
       "      <td>3.418337</td>\n",
       "      <td>1.282757</td>\n",
       "      <td>3.605573</td>\n",
       "    </tr>\n",
       "    <tr>\n",
       "      <th>2520</th>\n",
       "      <td>1.269861</td>\n",
       "      <td>1.846353</td>\n",
       "      <td>0.637377</td>\n",
       "      <td>5.679865</td>\n",
       "      <td>4.110239</td>\n",
       "      <td>3.300960</td>\n",
       "      <td>1.647365</td>\n",
       "      <td>0.984275</td>\n",
       "      <td>2.536424</td>\n",
       "      <td>5.259829</td>\n",
       "      <td>...</td>\n",
       "      <td>3.932187</td>\n",
       "      <td>1.540404</td>\n",
       "      <td>4.049398</td>\n",
       "      <td>4.698670</td>\n",
       "      <td>4.881690</td>\n",
       "      <td>1.723304</td>\n",
       "      <td>3.764139</td>\n",
       "      <td>3.430221</td>\n",
       "      <td>1.286113</td>\n",
       "      <td>3.594743</td>\n",
       "    </tr>\n",
       "  </tbody>\n",
       "</table>\n",
       "<p>2521 rows × 500 columns</p>\n",
       "</div>"
      ],
      "text/plain": [
       "           0         1         2         3         4         5         6    \\\n",
       "0     1.000000  1.000000  1.000000  1.000000  1.000000  1.000000  1.000000   \n",
       "1     1.008030  0.983822  1.000389  1.012316  0.988661  1.010075  0.987244   \n",
       "2     0.996490  0.971385  1.001887  1.010796  0.995919  1.005516  0.979733   \n",
       "3     0.998701  0.954048  1.013720  1.016566  0.982827  0.989473  0.979579   \n",
       "4     0.998612  0.945442  0.997640  1.014225  0.988839  0.998179  0.975975   \n",
       "...        ...       ...       ...       ...       ...       ...       ...   \n",
       "2516  1.253825  1.791937  0.621804  5.700387  4.062078  3.266759  1.653960   \n",
       "2517  1.252399  1.804512  0.631654  5.700178  4.054129  3.256668  1.653325   \n",
       "2518  1.248401  1.792594  0.624846  5.706444  4.020376  3.274299  1.643987   \n",
       "2519  1.259186  1.809320  0.632845  5.697513  4.041673  3.317162  1.649735   \n",
       "2520  1.269861  1.846353  0.637377  5.679865  4.110239  3.300960  1.647365   \n",
       "\n",
       "           7         8         9    ...       490       491       492  \\\n",
       "0     1.000000  1.000000  1.000000  ...  1.000000  1.000000  1.000000   \n",
       "1     1.008821  1.002913  1.011958  ...  0.988718  0.983643  0.998219   \n",
       "2     1.012259  1.008688  1.015344  ...  1.002793  0.968244  0.986698   \n",
       "3     1.014123  0.984997  1.000941  ...  1.003268  0.975058  0.984930   \n",
       "4     1.014846  0.989703  1.003965  ...  1.010922  0.968750  0.979592   \n",
       "...        ...       ...       ...  ...       ...       ...       ...   \n",
       "2516  0.986790  2.522245  5.143859  ...  3.772349  1.563025  4.067637   \n",
       "2517  0.983368  2.507842  5.130195  ...  3.817302  1.560509  4.011358   \n",
       "2518  0.991507  2.541628  5.219778  ...  3.842705  1.540089  4.065853   \n",
       "2519  1.000871  2.517288  5.266593  ...  3.860284  1.549577  4.066339   \n",
       "2520  0.984275  2.536424  5.259829  ...  3.932187  1.540404  4.049398   \n",
       "\n",
       "           493       494       495       496       497       498       499  \n",
       "0     1.000000  1.000000  1.000000  1.000000  1.000000  1.000000  1.000000  \n",
       "1     0.979441  0.993619  0.995350  0.995030  0.986486  0.994401  1.005254  \n",
       "2     0.973424  1.003544  1.002653  1.002891  1.002214  1.004079  1.019029  \n",
       "3     0.975967  1.007015  1.001361  1.021211  0.986790  1.004441  1.024959  \n",
       "4     0.970164  0.996275  1.008996  1.020200  0.981696  1.011496  1.023716  \n",
       "...        ...       ...       ...       ...       ...       ...       ...  \n",
       "2516  4.714883  4.875459  1.689637  3.772302  3.405105  1.264347  3.634571  \n",
       "2517  4.766809  4.810314  1.693460  3.825401  3.391990  1.276444  3.642859  \n",
       "2518  4.747549  4.846747  1.692118  3.823399  3.413628  1.268500  3.582150  \n",
       "2519  4.677441  4.842221  1.725958  3.715397  3.418337  1.282757  3.605573  \n",
       "2520  4.698670  4.881690  1.723304  3.764139  3.430221  1.286113  3.594743  \n",
       "\n",
       "[2521 rows x 500 columns]"
      ]
     },
     "execution_count": 127,
     "metadata": {},
     "output_type": "execute_result"
    }
   ],
   "source": [
    "# Run the Monte Carlo simulation to forecast 10 years cumulative returns\n",
    "# YOUR CODE HERE\n",
    "MC_simulation2.calc_cumulative_return()"
   ]
  },
  {
   "cell_type": "code",
   "execution_count": 128,
   "metadata": {},
   "outputs": [
    {
     "data": {
      "text/plain": [
       "<AxesSubplot:title={'center':'500 Simulations of Cumulative Portfolio Return Trajectories Over the Next 2520 Trading Days.'}>"
      ]
     },
     "execution_count": 128,
     "metadata": {},
     "output_type": "execute_result"
    },
    {
     "data": {
      "image/png": "[encoded data removed]",
      "text/plain": [
       "<Figure size 640x480 with 1 Axes>"
      ]
     },
     "metadata": {},
     "output_type": "display_data"
    }
   ],
   "source": [
    "# Visualize the 10-year Monte Carlo simulation by creating an\n",
    "# overlay line plot\n",
    "# YOUR CODE HERE\n",
    "\n",
    "simplot = MC_simulation2.plot_simulation()\n",
    "simplot\n"
   ]
  },
  {
   "cell_type": "code",
   "execution_count": 129,
   "metadata": {},
   "outputs": [
    {
     "data": {
      "text/plain": [
       "<AxesSubplot:title={'center':'Distribution of Final Cumuluative Returns Across All 500 Simulations'}, ylabel='Frequency'>"
      ]
     },
     "execution_count": 129,
     "metadata": {},
     "output_type": "execute_result"
    },
    {
     "data": {
      "image/png": "[encoded data removed]",
      "text/plain": [
       "<Figure size 640x480 with 1 Axes>"
      ]
     },
     "metadata": {},
     "output_type": "display_data"
    }
   ],
   "source": [
    "# Visualize the probability distribution of the 10-year Monte Carlo simulation \n",
    "# by plotting a histogram\n",
    "# YOUR CODE HERE\n",
    "\n",
    "dist_plot = MC_simulation2.plot_distribution()\n",
    "dist_plot\n"
   ]
  },
  {
   "cell_type": "code",
   "execution_count": 133,
   "metadata": {},
   "outputs": [],
   "source": [
    "# Generate summary statistics from the 10-year Monte Carlo simulation results\n",
    "# Save the results as a variable\n",
    "# YOUR CODE HERE\n",
    "overview2 = MC_simulation2.summarize_cumulative_return()\n",
    "\n",
    "# Review the 10-year Monte Carlo summary statistics\n",
    "# YOUR CODE HERE"
   ]
  },
  {
   "cell_type": "markdown",
   "metadata": {},
   "source": [
    "### Answer the following questions:"
   ]
  },
  {
   "cell_type": "markdown",
   "metadata": {},
   "source": [
    "#### Question: Using the current value of only the stock and bond portion of the member's portfolio and the summary statistics that you generated from the new Monte Carlo simulation, what are the lower and upper bounds for the expected value of the portfolio (with the new weights) with a 95% confidence interval?"
   ]
  },
  {
   "cell_type": "code",
   "execution_count": 134,
   "metadata": {},
   "outputs": [
    {
     "name": "stdout",
     "output_type": "stream",
     "text": [
      "68950.9\n"
     ]
    }
   ],
   "source": [
    "# Print the current balance of the stock and bond portion of the members portfolio\n",
    "# YOUR CODE HERE\n",
    "print(total_stocks_bonds)"
   ]
  },
  {
   "cell_type": "code",
   "execution_count": 137,
   "metadata": {},
   "outputs": [
    {
     "name": "stdout",
     "output_type": "stream",
     "text": [
      "76164.51156381637\n",
      "459734.70934952266\n"
     ]
    }
   ],
   "source": [
    "# Use the lower and upper `95%` confidence intervals to calculate the range of the possible outcomes for the current stock/bond portfolio\n",
    "ci_lower_ten_cumulative_return = total_stocks_bonds *overview2[8]\n",
    "ci_upper_ten_cumulative_return = total_stocks_bonds *overview2[9]\n",
    "\n",
    "# Print the result of your calculations\n",
    "# YOUR CODE HERE\n",
    "print(ci_lower_ten_cumulative_return)\n",
    "print(ci_upper_ten_cumulative_return)"
   ]
  },
  {
   "cell_type": "markdown",
   "metadata": {},
   "source": [
    "#### Question: Will weighting the portfolio more heavily to stocks allow the credit union members to retire after only 10 years?"
   ]
  },
  {
   "cell_type": "raw",
   "metadata": {},
   "source": [
    "**Answer** # Unless I am missing something I don't see where the credit union member states how much they need to retire on.\n",
    "#As such, I can't make a suggestion. I will state that stocks are riskier than bonds in general. I can say with certainty that there is a chance that this person will not be able to retire in 10 years.\n",
    "#This is because ending up with 76164 dollars after 10 years is within reason, which probably wouldn't even outpace inflation.\n",
    "# Without knowing the investor's preferences for certain, I would venture to say that they cannot retire after 10 years."
   ]
  },
  {
   "cell_type": "code",
   "execution_count": null,
   "metadata": {},
   "outputs": [],
   "source": []
  }
 ],
 "metadata": {
  "kernelspec": {
   "display_name": "dev",
   "language": "python",
   "name": "python3"
  },
  "language_info": {
   "codemirror_mode": {
    "name": "ipython",
    "version": 3
   },
   "file_extension": ".py",
   "mimetype": "text/x-python",
   "name": "python",
   "nbconvert_exporter": "python",
   "pygments_lexer": "ipython3",
   "version": "3.7.13"
  },
  "vscode": {
   "interpreter": {
    "hash": "d3b5f89ca97d6a0e5e82ee56350f1f96766dc1a920452141ff19e6c8236381de"
   }
  }
 },
 "nbformat": 4,
 "nbformat_minor": 4
}
